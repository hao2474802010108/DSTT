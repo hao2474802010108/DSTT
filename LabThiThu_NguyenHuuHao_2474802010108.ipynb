{
  "nbformat": 4,
  "nbformat_minor": 0,
  "metadata": {
    "colab": {
      "provenance": []
    },
    "kernelspec": {
      "name": "python3",
      "display_name": "Python 3"
    },
    "language_info": {
      "name": "python"
    }
  },
  "cells": [
    {
      "cell_type": "markdown",
      "source": [
        "Câu 1"
      ],
      "metadata": {
        "id": "miXc34Whkbrn"
      }
    },
    {
      "cell_type": "code",
      "execution_count": 6,
      "metadata": {
        "colab": {
          "base_uri": "https://localhost:8080/"
        },
        "id": "Vfi_Z1iWkCsF",
        "outputId": "4088b81b-8c49-4725-c2a4-053fa5f0589a"
      },
      "outputs": [
        {
          "output_type": "stream",
          "name": "stdout",
          "text": [
            "Ma trận A: [ 2 -1  3  0]\n",
            "Ma trận B: [ 1  4 -2  5]\n",
            "Ma trận C: [[ 1  2 -1]\n",
            " [ 0  3  4]\n",
            " [ 2 -1  0]]\n"
          ]
        }
      ],
      "source": [
        "#Ma trận\n",
        "import numpy as np\n",
        "A = np.array([2, -1, 3, 0])\n",
        "B = np.array([1, 4, -2, 5])\n",
        "C = np.array([[1, 2, -1], [0, 3, 4], [2, -1, 0]])\n",
        "print(\"Ma trận A:\", A)\n",
        "print(\"Ma trận B:\", B)\n",
        "print(\"Ma trận C:\", C)"
      ]
    },
    {
      "cell_type": "markdown",
      "source": [
        "a) Phép toán cơ bản trên vector và ma trận"
      ],
      "metadata": {
        "id": "wuK_dkoPktV-"
      }
    },
    {
      "cell_type": "code",
      "source": [
        "tong=A+B\n",
        "tru=(3*A)-(2*B)\n",
        "print(tong)\n",
        "print(tru)"
      ],
      "metadata": {
        "colab": {
          "base_uri": "https://localhost:8080/"
        },
        "id": "-711p-Sekrgu",
        "outputId": "770a7e62-956c-43aa-e19f-9b0870647310"
      },
      "execution_count": 9,
      "outputs": [
        {
          "output_type": "stream",
          "name": "stdout",
          "text": [
            "[3 3 1 5]\n",
            "[  4 -11  13 -10]\n"
          ]
        }
      ]
    },
    {
      "cell_type": "markdown",
      "source": [
        "B)Tính tích vô hướng A · B và góc giữa hai vector (tính bằng độ, làm tròn đến 3 chữ số thập phân)."
      ],
      "metadata": {
        "id": "Mli46p_QlQ4T"
      }
    },
    {
      "cell_type": "code",
      "source": [
        "Tich_vo_huong = np.dot(A, B)\n",
        "print(\"Tích vô hướng của A và B:\", Tich_vo_huong)\n",
        "Do_dai_A = np.linalg.norm(A)\n",
        "print(\"Do_dai_A\")\n",
        "Do_dai_B = np.linalg.norm(B)\n",
        "print(\"Do_dai_B\")\n",
        "Goc_do = np.degrees(np.arccos(Tich_vo_huong/ (Do_dai_A *Do_dai_B)))\n",
        "print(Goc_do)"
      ],
      "metadata": {
        "colab": {
          "base_uri": "https://localhost:8080/"
        },
        "id": "_qWME5RBlQmD",
        "outputId": "c753855e-d8a4-48b7-e9e1-185553a26dcc"
      },
      "execution_count": 10,
      "outputs": [
        {
          "output_type": "stream",
          "name": "stdout",
          "text": [
            "Tích vô hướng của A và B: -8\n",
            "Do_dai_A\n",
            "Do_dai_B\n",
            "108.3755542856849\n"
          ]
        }
      ]
    },
    {
      "cell_type": "markdown",
      "source": [
        " C) C^T C"
      ],
      "metadata": {
        "id": "SWLW-4cPmlpJ"
      }
    },
    {
      "cell_type": "code",
      "source": [
        "Chuyen_vi_C_nhan_C = C.T @ C\n",
        "print(Chuyen_vi_C_nhan_C)"
      ],
      "metadata": {
        "colab": {
          "base_uri": "https://localhost:8080/"
        },
        "id": "hAlZ1iYxnAKi",
        "outputId": "4fe25664-db0c-4fa9-c126-a672860dc967"
      },
      "execution_count": 11,
      "outputs": [
        {
          "output_type": "stream",
          "name": "stdout",
          "text": [
            "[[ 5  0 -1]\n",
            " [ 0 14 10]\n",
            " [-1 10 17]]\n"
          ]
        }
      ]
    },
    {
      "cell_type": "markdown",
      "source": [
        "Câu 2"
      ],
      "metadata": {
        "id": "noGp-IJ7nKOV"
      }
    },
    {
      "cell_type": "code",
      "source": [
        "M = np.array([[1, 2, 3, 0], [4, 5, 6, 1], [7, 8, 9, 2], [0, 1, 1, 0]])\n",
        "N = np.array([[0, 1, 2, 3], [4, 5, 6, 7], [8, 9, 10, 11], [12, 13, 14, 15]])\n",
        "print(\"Ma trận M:\", M)\n",
        "print(\"Ma trận N:\", N)"
      ],
      "metadata": {
        "colab": {
          "base_uri": "https://localhost:8080/"
        },
        "id": "eHUu_ax2nJBu",
        "outputId": "e43b42c9-f1a8-4939-ca03-ef622c6e1289"
      },
      "execution_count": 12,
      "outputs": [
        {
          "output_type": "stream",
          "name": "stdout",
          "text": [
            "Ma trận M: [[1 2 3 0]\n",
            " [4 5 6 1]\n",
            " [7 8 9 2]\n",
            " [0 1 1 0]]\n",
            "Ma trận N: [[ 0  1  2  3]\n",
            " [ 4  5  6  7]\n",
            " [ 8  9 10 11]\n",
            " [12 13 14 15]]\n"
          ]
        }
      ]
    },
    {
      "cell_type": "markdown",
      "source": [
        "a) M x N"
      ],
      "metadata": {
        "id": "vkUDUEQgnYUH"
      }
    },
    {
      "cell_type": "code",
      "source": [
        "Tich_M_N = M @ N\n",
        "print(Tich_M_N)"
      ],
      "metadata": {
        "colab": {
          "base_uri": "https://localhost:8080/"
        },
        "id": "uXzrZGcWnVUW",
        "outputId": "7cbcf471-6756-4b9c-a59b-8476e2a187b0"
      },
      "execution_count": 14,
      "outputs": [
        {
          "output_type": "stream",
          "name": "stdout",
          "text": [
            "[[ 32  38  44  50]\n",
            " [ 80  96 112 128]\n",
            " [128 154 180 206]\n",
            " [ 12  14  16  18]]\n"
          ]
        }
      ]
    },
    {
      "cell_type": "markdown",
      "source": [
        "B) Định thức M"
      ],
      "metadata": {
        "id": "yNPiweutneTP"
      }
    },
    {
      "cell_type": "code",
      "source": [
        "Dinh_thuc_M = np.linalg.det(M)\n",
        "print(Dinh_thuc_M)"
      ],
      "metadata": {
        "colab": {
          "base_uri": "https://localhost:8080/"
        },
        "id": "z7Rhjbrynd8T",
        "outputId": "9a3b9a74-003a-46b5-eed9-a7113020b911"
      },
      "execution_count": 13,
      "outputs": [
        {
          "output_type": "stream",
          "name": "stdout",
          "text": [
            "6.66133814775094e-16\n"
          ]
        }
      ]
    },
    {
      "cell_type": "markdown",
      "source": [
        "C) Hạng của N"
      ],
      "metadata": {
        "id": "UjF2lZ_UniW9"
      }
    },
    {
      "cell_type": "code",
      "source": [
        "Hang_cua_N = np.linalg.matrix_rank(N)\n",
        "print(Hang_cua_N)"
      ],
      "metadata": {
        "colab": {
          "base_uri": "https://localhost:8080/"
        },
        "id": "SjatX1KlnlER",
        "outputId": "e8f45ffe-624a-416a-9116-dc94d7c56b82"
      },
      "execution_count": 15,
      "outputs": [
        {
          "output_type": "stream",
          "name": "stdout",
          "text": [
            "2\n"
          ]
        }
      ]
    },
    {
      "cell_type": "markdown",
      "source": [
        "CÂU 3"
      ],
      "metadata": {
        "id": "fkDq-9EWnuoz"
      }
    },
    {
      "cell_type": "code",
      "source": [
        "P = np.array([[2, 1, 0, 1], [0, 3, 1, -1], [1, 0, 4, 2], [0, 1, 0, 3]])\n",
        "b = np.array([4, 7, 9, 5])\n",
        "print(P)\n",
        "print(b)"
      ],
      "metadata": {
        "colab": {
          "base_uri": "https://localhost:8080/"
        },
        "id": "rFqU07l5nvuv",
        "outputId": "3285a4e7-73b1-4b8c-c932-3cb0cfaab608"
      },
      "execution_count": 18,
      "outputs": [
        {
          "output_type": "stream",
          "name": "stdout",
          "text": [
            "[[ 2  1  0  1]\n",
            " [ 0  3  1 -1]\n",
            " [ 1  0  4  2]\n",
            " [ 0  1  0  3]]\n",
            "[4 7 9 5]\n"
          ]
        }
      ]
    },
    {
      "cell_type": "markdown",
      "source": [
        "A) Nghịch đảo"
      ],
      "metadata": {
        "id": "sdwh37XOn5OJ"
      }
    },
    {
      "cell_type": "code",
      "source": [
        "Nghich_dao_P = np.linalg.inv(P)\n",
        "print(Nghich_dao_P)"
      ],
      "metadata": {
        "colab": {
          "base_uri": "https://localhost:8080/"
        },
        "id": "hKjFarbUn97R",
        "outputId": "e69841c5-a00e-4250-84eb-cecf6df38e5e"
      },
      "execution_count": 19,
      "outputs": [
        {
          "output_type": "stream",
          "name": "stdout",
          "text": [
            "[[ 0.48837209 -0.09302326  0.02325581 -0.20930233]\n",
            " [ 0.03488372  0.27906977 -0.06976744  0.12790698]\n",
            " [-0.11627907  0.06976744  0.23255814 -0.09302326]\n",
            " [-0.01162791 -0.09302326  0.02325581  0.29069767]]\n"
          ]
        }
      ]
    },
    {
      "cell_type": "markdown",
      "source": [
        "B) Giải hệ phương trình"
      ],
      "metadata": {
        "id": "5hqMTURvoA8F"
      }
    },
    {
      "cell_type": "code",
      "source": [
        "Nghiem_he = np.linalg.solve(P, b)\n",
        "print(Nghiem_he)"
      ],
      "metadata": {
        "colab": {
          "base_uri": "https://localhost:8080/"
        },
        "id": "C6Y8y8RDoD8q",
        "outputId": "caa1129f-1a17-41db-c0cf-6ffd75da39b2"
      },
      "execution_count": 20,
      "outputs": [
        {
          "output_type": "stream",
          "name": "stdout",
          "text": [
            "[0.46511628 2.10465116 1.65116279 0.96511628]\n"
          ]
        }
      ]
    },
    {
      "cell_type": "markdown",
      "source": [
        "C) Kiểm tra nghiệm"
      ],
      "metadata": {
        "id": "OvuDuo_NoGuo"
      }
    },
    {
      "cell_type": "code",
      "source": [
        "Kiem_tra_b = P @ Nghiem_he\n",
        "print(Kiem_tra_b)"
      ],
      "metadata": {
        "colab": {
          "base_uri": "https://localhost:8080/"
        },
        "id": "R8174cP-oXkI",
        "outputId": "82873bf9-3ddd-4085-95f9-de1b250b1e2d"
      },
      "execution_count": 21,
      "outputs": [
        {
          "output_type": "stream",
          "name": "stdout",
          "text": [
            "[4. 7. 9. 5.]\n"
          ]
        }
      ]
    },
    {
      "cell_type": "markdown",
      "source": [
        "CÂU 4"
      ],
      "metadata": {
        "id": "s1FBENC6oW5U"
      }
    },
    {
      "cell_type": "code",
      "source": [
        "Q = np.array([[4, -1, 0], [1, 3, -2], [0, 1, 2]])\n",
        "print(Q)\n",
        "Gia_tri_rieng, Vector_rieng = np.linalg.eig(Q)\n",
        "print(Gia_tri_rieng)\n",
        "Vector_rieng_chuan_hoa = Vector_rieng / np.linalg.norm(Vector_rieng, axis=0)\n",
        "print(Vector_rieng_chuan_hoa)"
      ],
      "metadata": {
        "colab": {
          "base_uri": "https://localhost:8080/"
        },
        "id": "Pr3_KTAErHXJ",
        "outputId": "b077e6fe-ee1d-43cf-d05a-b75a030e9529"
      },
      "execution_count": 22,
      "outputs": [
        {
          "output_type": "stream",
          "name": "stdout",
          "text": [
            "[[ 4 -1  0]\n",
            " [ 1  3 -2]\n",
            " [ 0  1  2]]\n",
            "[3.45339765+0.j         2.77330117+1.46771151j 2.77330117-1.46771151j]\n",
            "[[ 0.83327121+0.j         -0.26206044-0.31354813j -0.26206044+0.31354813j]\n",
            " [ 0.455468  +0.j         -0.78166743+0.j         -0.78166743+0.j        ]\n",
            " [ 0.31338154+0.j         -0.21963176+0.41685708j -0.21963176-0.41685708j]]\n"
          ]
        }
      ]
    },
    {
      "cell_type": "markdown",
      "source": [
        "CÂU 5"
      ],
      "metadata": {
        "id": "Lq3ZWZbarUNx"
      }
    },
    {
      "cell_type": "code",
      "source": [
        "R = np.array([[1, -2, 3], [2, 0, 1], [-1, 1, 4]])\n",
        "print(R)\n",
        "b2 = np.array([10, 8, 7])\n",
        "print(b2)"
      ],
      "metadata": {
        "colab": {
          "base_uri": "https://localhost:8080/"
        },
        "id": "65rJ3ND2rSTe",
        "outputId": "d467348e-5266-46f2-fd5f-dc0a511cbc1d"
      },
      "execution_count": 23,
      "outputs": [
        {
          "output_type": "stream",
          "name": "stdout",
          "text": [
            "[[ 1 -2  3]\n",
            " [ 2  0  1]\n",
            " [-1  1  4]]\n",
            "[10  8  7]\n"
          ]
        }
      ]
    },
    {
      "cell_type": "markdown",
      "source": [
        "a) Giải Rx = b2"
      ],
      "metadata": {
        "id": "idIT-O03rcpD"
      }
    },
    {
      "cell_type": "code",
      "source": [
        "Nghiem_R = np.linalg.solve(R, b2)\n",
        "print(Nghiem_R)"
      ],
      "metadata": {
        "colab": {
          "base_uri": "https://localhost:8080/"
        },
        "id": "VfxCKFHarYyx",
        "outputId": "207a7d49-9519-4874-894d-36b82c9032d9"
      },
      "execution_count": 24,
      "outputs": [
        {
          "output_type": "stream",
          "name": "stdout",
          "text": [
            "[2.7826087  0.04347826 2.43478261]\n"
          ]
        }
      ]
    },
    {
      "cell_type": "markdown",
      "source": [
        "b) Ma trận nghịch đảo và kiểm tra nghiệm"
      ],
      "metadata": {
        "id": "mvXEUdLprnnL"
      }
    },
    {
      "cell_type": "code",
      "source": [
        "Nghich_dao_R = np.linalg.inv(R)\n",
        "print(Nghich_dao_R)\n",
        "Kiem_tra_lai = Nghich_dao_R @ b2\n",
        "print(Kiem_tra_lai)"
      ],
      "metadata": {
        "colab": {
          "base_uri": "https://localhost:8080/"
        },
        "id": "gPQypG2irl-J",
        "outputId": "39b6a0db-6b64-4746-fd87-a3a418b0d29d"
      },
      "execution_count": 25,
      "outputs": [
        {
          "output_type": "stream",
          "name": "stdout",
          "text": [
            "[[-0.04347826  0.47826087 -0.08695652]\n",
            " [-0.39130435  0.30434783  0.2173913 ]\n",
            " [ 0.08695652  0.04347826  0.17391304]]\n",
            "[2.7826087  0.04347826 2.43478261]\n"
          ]
        }
      ]
    },
    {
      "cell_type": "markdown",
      "source": [
        "c) Chuẩn Frobenius"
      ],
      "metadata": {
        "id": "4eeHtykhrvaC"
      }
    },
    {
      "cell_type": "code",
      "source": [
        "Chuan_Frobenius = np.linalg.norm(R, 'fro')\n",
        "print(Chuan_Frobenius)"
      ],
      "metadata": {
        "colab": {
          "base_uri": "https://localhost:8080/"
        },
        "id": "EIwCft5LrvJl",
        "outputId": "e650f876-5c3a-457e-8912-84aaded54088"
      },
      "execution_count": 26,
      "outputs": [
        {
          "output_type": "stream",
          "name": "stdout",
          "text": [
            "6.082762530298219\n"
          ]
        }
      ]
    }
  ]
}