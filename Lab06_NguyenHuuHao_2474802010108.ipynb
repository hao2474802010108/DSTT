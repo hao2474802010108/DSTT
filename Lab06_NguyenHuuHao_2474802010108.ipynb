{
  "nbformat": 4,
  "nbformat_minor": 0,
  "metadata": {
    "colab": {
      "provenance": []
    },
    "kernelspec": {
      "name": "python3",
      "display_name": "Python 3"
    },
    "language_info": {
      "name": "python"
    }
  },
  "cells": [
    {
      "cell_type": "code",
      "execution_count": null,
      "metadata": {
        "id": "wyEBElUdf1IJ"
      },
      "outputs": [],
      "source": [
        "import numpy as np\n",
        "a = np.array([1,2,3])\n",
        "b = np.array([4,5,6])\n",
        "tich = np.inner(a,b)\n",
        "print (tich)"
      ]
    },
    {
      "cell_type": "code",
      "source": [
        "np.dot(a,b)"
      ],
      "metadata": {
        "id": "_KuVzypxgysH"
      },
      "execution_count": null,
      "outputs": []
    },
    {
      "cell_type": "code",
      "source": [
        "import numpy as np\n",
        "a = np.array([1,2,-3])\n",
        "np.linalg.norm(a)\n",
        "np.linalg.norm(a, 2)"
      ],
      "metadata": {
        "id": "Y9k2ald2hUGT"
      },
      "execution_count": null,
      "outputs": []
    },
    {
      "cell_type": "code",
      "source": [
        "a = np.array([1,2,-3])\n",
        "np.linalg.norm(a,1)"
      ],
      "metadata": {
        "id": "-Qqo9fiihTws"
      },
      "execution_count": null,
      "outputs": []
    },
    {
      "cell_type": "code",
      "source": [
        "def chuan(v,k):\n",
        " tong = 0\n",
        " for i in range(len(v)):\n",
        "  tong = tong + abs(v[i]**k)\n",
        " ketqua = math.pow(tong, 1.0/k)\n",
        " return ketqua"
      ],
      "metadata": {
        "id": "PRu4CZ7QhY1U"
      },
      "execution_count": null,
      "outputs": []
    },
    {
      "cell_type": "code",
      "source": [
        "import math\n",
        "import numpy as np\n",
        "a = np.array([1,2,-3])"
      ],
      "metadata": {
        "id": "Wt0BVwN5hYqu"
      },
      "execution_count": null,
      "outputs": []
    },
    {
      "cell_type": "code",
      "source": [
        "chuan(a, 1)\n",
        "np.linalg.norm(a,1)"
      ],
      "metadata": {
        "id": "CMcyikxmhb6Z"
      },
      "execution_count": null,
      "outputs": []
    },
    {
      "cell_type": "code",
      "source": [
        "chuan(a, 2)\n",
        "np.linalg.norm(a,2)"
      ],
      "metadata": {
        "id": "Y6pe7uScjQrq"
      },
      "execution_count": null,
      "outputs": []
    },
    {
      "cell_type": "code",
      "source": [
        "chuan(a, 3)\n",
        "np.linalg.norm(a,3)"
      ],
      "metadata": {
        "id": "ihH1tlLhjR42"
      },
      "execution_count": null,
      "outputs": []
    },
    {
      "cell_type": "code",
      "source": [
        "chuan(a, 1000)\n",
        "np.linalg.norm(a,1000)"
      ],
      "metadata": {
        "id": "mxUZoHo0jS-k"
      },
      "execution_count": null,
      "outputs": []
    },
    {
      "cell_type": "code",
      "source": [
        "from scipy import linalg\n",
        "linalg.norm(a)"
      ],
      "metadata": {
        "id": "y0gw79-IjcF3"
      },
      "execution_count": null,
      "outputs": []
    },
    {
      "cell_type": "code",
      "source": [
        "linalg.norm(a, 100)"
      ],
      "metadata": {
        "id": "Uzw1U5hbjeCS"
      },
      "execution_count": null,
      "outputs": []
    },
    {
      "cell_type": "code",
      "source": [
        "linalg.norm(a, 1000)"
      ],
      "metadata": {
        "id": "mnkOtwELjfG6"
      },
      "execution_count": null,
      "outputs": []
    },
    {
      "cell_type": "code",
      "source": [
        "import numpy as np\n",
        "m = 10\n",
        "v1 = np.array([5,-4,3])\n",
        "v2 = np.array([4,3,-2])\n",
        "v3 = np.array([-4,-3,-1])\n",
        "v4 = np.array([-9,8,6])\n",
        "mi = np.array([2,5,2,1])\n",
        "M = np.array([v1,v2,v3,v4])\n",
        "MT = M.transpose()\n",
        "print(MT)"
      ],
      "metadata": {
        "colab": {
          "base_uri": "https://localhost:8080/"
        },
        "id": "ZzIloqHHjfiW",
        "outputId": "0dfc7280-6b38-4af6-a8f9-80b1927bdec8"
      },
      "execution_count": null,
      "outputs": [
        {
          "output_type": "stream",
          "name": "stdout",
          "text": [
            "[[ 5  4 -4 -9]\n",
            " [-4  3 -3  8]\n",
            " [ 3 -2 -1  6]]\n"
          ]
        }
      ]
    },
    {
      "cell_type": "code",
      "source": [
        "v = (1.0/m)*MT.dot(mi)\n",
        "print(v)"
      ],
      "metadata": {
        "id": "CPVErAyijrxD"
      },
      "execution_count": null,
      "outputs": []
    },
    {
      "cell_type": "code",
      "source": [
        "import sympy as sym\n",
        "x, y = sym.symbols('x y')\n",
        "xy = sym.Matrix([x,y])\n",
        "A = sym.Matrix([[1, -68],[1,1]])\n",
        "v = sym.Matrix([0, 1])\n",
        "nghiem = sym.solve([A*xy-v])\n",
        "print(sym.pretty(nghiem))"
      ],
      "metadata": {
        "id": "RMAPK5PjjvVR"
      },
      "execution_count": null,
      "outputs": []
    },
    {
      "cell_type": "code",
      "source": [
        "import sympy\n",
        "x, y, Lambda = sympy.symbols('x y Lambda')\n",
        "I = sympy.eye(2)"
      ],
      "metadata": {
        "id": "oonzV_OwjvQJ"
      },
      "execution_count": null,
      "outputs": []
    },
    {
      "cell_type": "code",
      "source": [
        "A = sympy.Matrix([[2,3],[3,-6]])\n",
        "phuongtrinh = sympy.Eq(sympy.det(Lambda*I-A), 0)\n",
        "nghiem = sympy.solve(phuongtrinh)\n",
        "print([sympy.N(phantu,4) for phantu in nghiem])\n",
        "print (sympy.pretty(nghiem))"
      ],
      "metadata": {
        "id": "3GfnpvXRjyZm"
      },
      "execution_count": null,
      "outputs": []
    },
    {
      "cell_type": "code",
      "source": [
        "import numpy as np\n",
        "A = np.array([[2,3],[3,-6]])\n",
        "D = np.array([[-7,0],[0,3]])\n",
        "P = np.array([[-1.0/3, 3],[1,1]])\n",
        "from numpy import linalg\n",
        "from numpy import linalg as LA\n",
        "P1 = LA.inv(P)\n",
        "print (P1)"
      ],
      "metadata": {
        "colab": {
          "base_uri": "https://localhost:8080/"
        },
        "id": "ZZHV0TSqnG68",
        "outputId": "283cc993-b75e-4c46-f899-106330c68d0d"
      },
      "execution_count": null,
      "outputs": [
        {
          "output_type": "stream",
          "name": "stdout",
          "text": [
            "[[-0.3  0.9]\n",
            " [ 0.3  0.1]]\n"
          ]
        }
      ]
    },
    {
      "cell_type": "code",
      "source": [
        "A.dot(P)\n",
        "P.dot(D)\n",
        "P @ (D ** 1000) @ P1\n",
        "print (D **2)"
      ],
      "metadata": {
        "id": "YhCHgyO5nIUc"
      },
      "execution_count": null,
      "outputs": []
    },
    {
      "cell_type": "code",
      "source": [
        "import numpy as np\n",
        "a = np.array([1,2,3])\n",
        "mag = np.sqrt(a.dot(a))\n",
        "mag = np.sqrt(a @ a )\n",
        "mag = np.sqrt(np.inner(a,a))\n",
        "mag = lambda x : math.sqrt(sum(i** 2 for i in x))\n",
        "mag(a)"
      ],
      "metadata": {
        "id": "E2NPFj2vnP4-"
      },
      "execution_count": null,
      "outputs": []
    },
    {
      "cell_type": "code",
      "source": [],
      "metadata": {
        "id": "3qXo--B90O8K"
      },
      "execution_count": null,
      "outputs": []
    },
    {
      "cell_type": "code",
      "source": [
        "import numpy as np\n",
        "a=np.array(list(map(float,input(\"Nhập vector a (cách nhau dấu cách): \").split())))\n",
        "b=np.array(list(map(float,input(\"Nhập vector b (cách nhau dấu cách): \").split())))\n",
        "c=a-b\n",
        "d=np.linalg.norm(c)\n",
        "print(f\"\\n1) Khoảng cách ||a-b||={d:.6f}\")\n",
        "e=np.dot(a, b)\n",
        "na=np.linalg.norm(a)\n",
        "nb=np.linalg.norm(b)\n",
        "cosθ=np.clip(e/(na*nb),-1.0,1.0)\n",
        "θ_rad=np.arccos(cosθ)\n",
        "θ_deg=np.degrees(θ_rad)\n",
        "print(f\"2) Góc θ: {θ_rad:.6f} rad≃{θ_deg:.2f}°\")\n",
        "f=(e/np.dot(b,b))*b\n",
        "print(f\"3) Chiếu trực giao p={f}\")"
      ],
      "metadata": {
        "id": "UHt9zkna0O1l"
      },
      "execution_count": null,
      "outputs": []
    }
  ]
}