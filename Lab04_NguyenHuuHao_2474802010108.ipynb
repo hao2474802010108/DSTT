{
  "nbformat": 4,
  "nbformat_minor": 0,
  "metadata": {
    "colab": {
      "provenance": []
    },
    "kernelspec": {
      "name": "python3",
      "display_name": "Python 3"
    },
    "language_info": {
      "name": "python"
    }
  },
  "cells": [
    {
      "cell_type": "markdown",
      "source": [
        "Câu 1"
      ],
      "metadata": {
        "id": "yYwuzi7vaHfq"
      }
    },
    {
      "cell_type": "code",
      "execution_count": null,
      "metadata": {
        "colab": {
          "base_uri": "https://localhost:8080/"
        },
        "id": "8PDd-2WfZ7GX",
        "outputId": "61882fca-a1ac-41de-89e6-79badf8116a8"
      },
      "outputs": [
        {
          "output_type": "stream",
          "name": "stdout",
          "text": [
            "-1\n"
          ]
        }
      ],
      "source": [
        "import numpy as np\n",
        "n = 4\n",
        "x = np.array(range(1,n+1))\n",
        "sigma = np.array([4,3,2,1])\n",
        "def sgn_by_def(sigma):\n",
        "  kq=1.0\n",
        "  for i in range(len(x)-1):\n",
        "      for j in range (i+1,len(x)):\n",
        "        kq=kq*((x[i]-x[j]))/(sigma[i]-sigma[j])\n",
        "  return int(kq)\n",
        "sigma = np.array([2,1,3,4])\n",
        "print(sgn_by_def(sigma))"
      ]
    },
    {
      "cell_type": "code",
      "source": [
        "sigma = np.array([1,2,3,4])\n",
        "print(sgn_by_def(sigma) )"
      ],
      "metadata": {
        "colab": {
          "base_uri": "https://localhost:8080/"
        },
        "id": "wovEkyTgcQf-",
        "outputId": "5ad798db-d20d-4c67-d219-578f6a62024e"
      },
      "execution_count": null,
      "outputs": [
        {
          "output_type": "stream",
          "name": "stdout",
          "text": [
            "1\n"
          ]
        }
      ]
    },
    {
      "cell_type": "code",
      "source": [
        "sigma = np.array([4,3,2,1])\n",
        "print(sgn_by_def(sigma))"
      ],
      "metadata": {
        "colab": {
          "base_uri": "https://localhost:8080/"
        },
        "id": "QPBo2EiycW1Z",
        "outputId": "6dcd2bb7-5f0e-4604-dd04-31b7555ce260"
      },
      "execution_count": null,
      "outputs": [
        {
          "output_type": "stream",
          "name": "stdout",
          "text": [
            "1\n"
          ]
        }
      ]
    },
    {
      "cell_type": "code",
      "source": [
        "from itertools import permutations\n",
        "n = 3\n",
        "x = []\n",
        "for i in range (1, n+1):\n",
        "  x.append(i)\n",
        "Sn = list(permutations(x)) #  tạo hoán vị của tập X\n",
        "print(Sn)"
      ],
      "metadata": {
        "colab": {
          "base_uri": "https://localhost:8080/"
        },
        "id": "hgiOQ6YrcdG9",
        "outputId": "a198c0ed-4c36-4b33-8032-a9ff61c33ee9"
      },
      "execution_count": null,
      "outputs": [
        {
          "output_type": "stream",
          "name": "stdout",
          "text": [
            "[(1, 2, 3), (1, 3, 2), (2, 1, 3), (2, 3, 1), (3, 1, 2), (3, 2, 1)]\n"
          ]
        }
      ]
    },
    {
      "cell_type": "code",
      "source": [
        "import numpy as np\n",
        "from itertools import permutations\n",
        "def sgn_by_def(sigma):\n",
        "    n = len(sigma)\n",
        "    count = 0\n",
        "    for i in range(n):\n",
        "        for j in range(i + 1, n):\n",
        "            if sigma[i] > sigma[j]:\n",
        "                count += 1\n",
        "    return 1 if count % 2 == 0 else -1\n",
        "def phatsinh_dinhthuc(n):\n",
        "    X = []\n",
        "    for i in range(1, n + 1):\n",
        "        X.append(i)\n",
        "    Sn = list(permutations(X))\n",
        "    dinhthuc = \"\"\n",
        "    for sn in Sn:\n",
        "        sigma = np.array([1])\n",
        "        sigma.resize([n])\n",
        "        product = \"\"\n",
        "        for i in range(1, n + 1):\n",
        "            sigma[sn.index(i)] = i\n",
        "            product += \"a\" + str(i) + str(sn.index(i) + 1)\n",
        "        dau = sgn_by_def(sigma)\n",
        "        if dau != 1:\n",
        "            product = \" - \" + product\n",
        "        else:\n",
        "            product = \" + \" + product\n",
        "        dinhthuc += product\n",
        "    return dinhthuc\n",
        "print(phatsinh_dinhthuc(2))\n",
        "print(phatsinh_dinhthuc(3))"
      ],
      "metadata": {
        "colab": {
          "base_uri": "https://localhost:8080/"
        },
        "id": "piuWLJGNfcDw",
        "outputId": "a10a513f-8c78-4568-9cf3-4e9021d9ab24"
      },
      "execution_count": null,
      "outputs": [
        {
          "output_type": "stream",
          "name": "stdout",
          "text": [
            " + a11a22 - a12a21\n",
            " + a11a22a33 - a11a23a32 - a12a21a33 + a13a21a32 + a12a23a31 - a13a22a31\n"
          ]
        }
      ]
    },
    {
      "cell_type": "code",
      "source": [
        "import numpy as np\n",
        "import math\n",
        "from itertools import permutations\n",
        "\n",
        "# Hàm tính dấu hoán vị (1 nếu chẵn, -1 nếu lẻ)\n",
        "def sgn_by_def(sigma):\n",
        "    n = len(sigma)\n",
        "    count = 0\n",
        "    for i in range(n):\n",
        "        for j in range(i + 1, n):\n",
        "            if sigma[i] > sigma[j]:\n",
        "                count += 1\n",
        "    return 1 if count % 2 == 0 else -1\n",
        "\n",
        "# Hàm tính định thức của ma trận A theo định nghĩa\n",
        "def tinh_toan_dinhthuc(A):\n",
        "    X = []\n",
        "    n = int(math.sqrt(A.size))  # kích thước của ma trận vuông\n",
        "    for i in range(1, n + 1):\n",
        "        X.append(i)\n",
        "\n",
        "    Sn = list(permutations(X))\n",
        "    dinhthuc = 0\n",
        "\n",
        "    for sn in Sn:\n",
        "        sigma = np.array([1])\n",
        "        sigma.resize([n])\n",
        "        product = 1\n",
        "\n",
        "        for i in range(1, n + 1):\n",
        "            sigma[sn.index(i)] = i\n",
        "            product *= A[i - 1][sn.index(i)]  # phần tử A[i-1][σ(i)-1]\n",
        "\n",
        "        dau = sgn_by_def(sigma)\n",
        "        if dau != 1:\n",
        "            product *= -1\n",
        "\n",
        "        dinhthuc += product\n",
        "\n",
        "    return dinhthuc\n"
      ],
      "metadata": {
        "id": "WfQUbbOIhMi-"
      },
      "execution_count": null,
      "outputs": []
    },
    {
      "cell_type": "code",
      "source": [
        "import numpy as np\n",
        "import math\n",
        "from itertools import permutations\n",
        "def sgn_by_def(sigma):\n",
        "    n = len(sigma)\n",
        "    count = 0\n",
        "    for i in range(n):\n",
        "        for j in range(i + 1, n):\n",
        "            if sigma[i] > sigma[j]:\n",
        "                count += 1\n",
        "    return 1 if count % 2 == 0 else -1\n",
        "def tinh_toan_dinhthuc(A):\n",
        "    X = []\n",
        "    n = int(math.sqrt(A.size))\n",
        "    for i in range(1, n + 1):\n",
        "        X.append(i)\n",
        "    Sn = list(permutations(X))\n",
        "    dinhthuc = 0\n",
        "    for sn in Sn:\n",
        "        sigma = np.array([1])\n",
        "        sigma.resize([n])\n",
        "        product = 1\n",
        "        for i in range(1, n + 1):\n",
        "            sigma[sn.index(i)] = i\n",
        "            product *= A[i - 1][sn.index(i)]\n",
        "        dau = sgn_by_def(sigma)\n",
        "        if dau != 1:\n",
        "            product *= -1\n",
        "        dinhthuc += product\n",
        "    return dinhthuc\n",
        "A= np.array([ [3,5,-8], [4, 12, -1], [2,5,3] ])\n",
        "print(tinh_toan_dinhthuc(A))"
      ],
      "metadata": {
        "colab": {
          "base_uri": "https://localhost:8080/"
        },
        "id": "YfL3UJlUhY0x",
        "outputId": "9b9536e2-4ed0-4e02-fd01-f510677708e9"
      },
      "execution_count": null,
      "outputs": [
        {
          "output_type": "stream",
          "name": "stdout",
          "text": [
            "85\n"
          ]
        }
      ]
    },
    {
      "cell_type": "markdown",
      "source": [
        "Câu 3 Quy tắc Cramer"
      ],
      "metadata": {
        "id": "vqv6BmV8Mm00"
      }
    },
    {
      "cell_type": "code",
      "source": [
        "import math\n",
        "import numpy as np\n",
        "A=np.array([[4,-2],[3,-5]])   # khai báo ma trận A\n",
        "A1=np.array([[10,-2],[11,-5]])\n",
        "A2=np.array([[4,10],[3,11]])\n",
        "from scipy import linalg  #lưu ý: hàm tính định thức của ma trận là scipy.linalg.det(A)\n",
        "detA=linalg.det(A)      #tính định thức cho ma trận A\n",
        "detA1=linalg.det(A1)\n",
        "detA2=linalg.det(A2)\n",
        "print(detA,detA1,detA2)"
      ],
      "metadata": {
        "colab": {
          "base_uri": "https://localhost:8080/"
        },
        "id": "_yJw0o8gNdx4",
        "outputId": "85f83e9b-a96e-40be-8320-9184f9cfa163"
      },
      "execution_count": null,
      "outputs": [
        {
          "output_type": "stream",
          "name": "stdout",
          "text": [
            "-14.0 -28.0 14.000000000000004\n"
          ]
        }
      ]
    },
    {
      "cell_type": "code",
      "source": [
        "if (detA!=0):\n",
        "  x1=detA1/detA\n",
        "  x2=detA2/detA\n",
        "print(\"Hai nghiệm của phương trình là: \",x1,x2)"
      ],
      "metadata": {
        "colab": {
          "base_uri": "https://localhost:8080/"
        },
        "id": "rnur2xDXMvM_",
        "outputId": "857a4386-2177-473f-c9b3-cb6af80953e6"
      },
      "execution_count": null,
      "outputs": [
        {
          "output_type": "stream",
          "name": "stdout",
          "text": [
            "Hai nghiệm của phương trình là:  2.0 -1.0000000000000002\n"
          ]
        }
      ]
    },
    {
      "cell_type": "code",
      "source": [
        "def tinhtoan_dinhthuc(A,A1,A2):\n",
        "    from scipy import linalg\n",
        "    detA=linalg.det(A)\n",
        "    detA1=linalg.det(A1)\n",
        "    detA2=linalg.det(A2)\n",
        "    return detA,detA1,detA2\n",
        "A=np.array([[4,-2],[3,-5]])\n",
        "A1=np.array([[10,-2],[11,-5]])\n",
        "A2=np.array([[4,10],[3,11]])\n",
        "detA,detA1,detA2=tinhtoan_dinhthuc(A, A1, A2)\n",
        "print(\"detA=\",detA)\n",
        "print(\"detA1=\",detA1)\n",
        "print(\"detA2=\",detA2)"
      ],
      "metadata": {
        "colab": {
          "base_uri": "https://localhost:8080/"
        },
        "id": "u33bkdTqNlEN",
        "outputId": "08e168dd-e6b9-4d8b-b049-0049f4e4c5ef"
      },
      "execution_count": null,
      "outputs": [
        {
          "output_type": "stream",
          "name": "stdout",
          "text": [
            "detA= -14.0\n",
            "detA1= -28.0\n",
            "detA2= 14.000000000000004\n"
          ]
        }
      ]
    },
    {
      "cell_type": "code",
      "source": [
        "#Hệ ba phương trình tuyến tính bậc 1:\n",
        "import numpy as np\n",
        "from scipy.linalg import det\n",
        "A=np.array([[-1,2,-3],[2,-2,1],[3,-4,4]])\n",
        "B=np.array([1, 3, 2])\n",
        "def tinhtoan_dinhthuc(M):\n",
        "    if M.shape==(2,2):\n",
        "        return M[0,0]*M[1,1]-M[0,1]*M[1,0]\n",
        "    return sum(((-1)**i)*M[0,i]*tinhtoan_dinhthuc(np.delete(np.delete(M,0,0),i,1))for i in range(M.shape[1]))\n",
        "def giai_cramer(det_func,label):\n",
        "    d=det_func(A)\n",
        "    if d==0:\n",
        "        print(f\"{label}: det(A)=0 nên hệ không giải được bằng Cramer\")\n",
        "        return\n",
        "    dX=det_func(np.column_stack((B,A[:,1],A[:,2])))\n",
        "    dY=det_func(np.column_stack((A[:,0],B,A[:,2])))\n",
        "    dZ=det_func(np.column_stack((A[:,0],A[:,1],B)))\n",
        "    x,y,z=dX/d,dY/d,dZ/d\n",
        "    print(f\"{label}: x={x}, y={y}, z={z}\")\n",
        "giai_cramer(det,\"Phương pháp scipy\")\n",
        "giai_cramer(tinhtoan_dinhthuc,\"Phương pháp viết tay\")\n",
        "print(\"Kiểm tra bằng numpy.linalg.solve:\")\n",
        "try:\n",
        "    sol=np.linalg.solve(A,B)\n",
        "    print(\"Nghiệm duy nhất:\",sol)\n",
        "except np.linalg.LinAlgError:\n",
        "    print(\"Hệ vô nghiệm hoặc vô số nghiệm\")"
      ],
      "metadata": {
        "colab": {
          "base_uri": "https://localhost:8080/"
        },
        "id": "ltoTS7EcNoTd",
        "outputId": "1d0ac840-29ea-42f8-97e5-37c08a95ea63"
      },
      "execution_count": null,
      "outputs": [
        {
          "output_type": "stream",
          "name": "stdout",
          "text": [
            "Phương pháp scipy: det(A)=0 nên hệ không giải được bằng Cramer\n",
            "Phương pháp viết tay: det(A)=0 nên hệ không giải được bằng Cramer\n",
            "Kiểm tra bằng numpy.linalg.solve:\n",
            "Nghiệm duy nhất: [ 1.   -1.25 -1.5 ]\n"
          ]
        }
      ]
    },
    {
      "cell_type": "markdown",
      "source": [
        "Bài toán ứng dụng 1: Tính diện tích đa giác, thể tích và các phương trình đường, mặt"
      ],
      "metadata": {
        "id": "B9mBzsiPNzHL"
      }
    },
    {
      "cell_type": "code",
      "source": [
        "import sympy as sp\n",
        "def tinh_dien_tich_tam_giac(A,B,C):\n",
        "    ma_tran=sp.Matrix([[A[0],A[1],1],[B[0],B[1],1],[C[0],C[1],1]])\n",
        "    return sp.Rational(1,2)*abs(ma_tran.det())\n",
        "def tinh_the_tich_chop(A,B,C,D):\n",
        "    ma_tran=sp.Matrix([[*A,1],[*B,1],[*C,1],[*D,1]])\n",
        "    return abs(ma_tran.det())/6\n",
        "def kiem_tra_dong_phang(A,B,C,D):\n",
        "    ma_tran=sp.Matrix([[*A,1],[*B,1],[*C,1],[*D,1]])\n",
        "    return ma_tran.det()==0\n",
        "def phuong_trinh_mat_phang(A, B, C):\n",
        "    x,y,z=sp.symbols('x y z')\n",
        "    ma_tran=sp.Matrix([[x,y,z,1],[*A,1],[*B,1],[*C,1]])\n",
        "    return sp.simplify(ma_tran.det())\n",
        "if __name__ == \"__main__\":\n",
        "    print(\"1.Diện tích tam giác:\",tinh_dien_tich_tam_giac((1,1),(4,1),(4,5)))\n",
        "    print(\"2.Thể tích hình chóp:\",tinh_the_tich_chop((0,0,0),(1,0,0),(0,1,0),(0,0,1)))\n",
        "    print(\"3.Kiểm tra đồng phẳng:\",kiem_tra_dong_phang((1,2,3),(2,3,4),(3,4,5),(4,5,6)))\n",
        "    print(\"4.Phương trình mặt phẳng:\",phuong_trinh_mat_phang((-1,3,2),(0,1,0),(-2,0,1)),\"= 0\")"
      ],
      "metadata": {
        "colab": {
          "base_uri": "https://localhost:8080/"
        },
        "id": "VtdJTHtCOKmF",
        "outputId": "4c127ddc-f91d-4f71-c830-1cececaab62f"
      },
      "execution_count": null,
      "outputs": [
        {
          "output_type": "stream",
          "name": "stdout",
          "text": [
            "1.Diện tích tam giác: 6\n",
            "2.Thể tích hình chóp: 1/6\n",
            "3.Kiểm tra đồng phẳng: True\n",
            "4.Phương trình mặt phẳng: -4*x + 3*y - 5*z - 3 = 0\n"
          ]
        }
      ]
    },
    {
      "cell_type": "code",
      "source": [
        "import sympy as sp\n",
        "def ellipse_qua_5_diem(danh_sach_diem):\n",
        "    x=sp.symbols('x')\n",
        "    y=sp.symbols('y')\n",
        "    a,b,c,d,e,f=sp.symbols('a,b,c,d,e,f')\n",
        "    he_phuong_trinh=[]\n",
        "    for x0,y0 in danh_sach_diem:\n",
        "        pt=a*x0**2+b*x0*y0+c*y0**2+d*x0+e*y0+1\n",
        "        he_phuong_trinh.append(pt)\n",
        "    an=[a,b,c,d,e]\n",
        "    nghiem=sp.solve(he_phuong_trinh, an)\n",
        "    if nghiem:\n",
        "        phuong_trinh=a*x**2 +b*x*y+c*y**2+d*x+e*y+1\n",
        "        return sp.simplify(phuong_trinh.subs(nghiem))\n",
        "    else:\n",
        "        return \"Không tìm được ellipse đi qua 5 điểm này\"\n",
        "if __name__ == \"__main__\":\n",
        "    diem=[(1,1),(2,4),(3,3),(4,2),(5,5)]\n",
        "    kq=ellipse_qua_5_diem(diem)\n",
        "    print(\"Phương trình ellipse đi qua 5 điểm là:\")\n",
        "    sp.pprint(kq)"
      ],
      "metadata": {
        "colab": {
          "base_uri": "https://localhost:8080/"
        },
        "id": "c-4ScM4iOhN_",
        "outputId": "e099dd5f-1fa8-4c06-f604-785f2cf4094d"
      },
      "execution_count": null,
      "outputs": [
        {
          "output_type": "stream",
          "name": "stdout",
          "text": [
            "Phương trình ellipse đi qua 5 điểm là:\n",
            "Không tìm được ellipse đi qua 5 điểm này\n"
          ]
        }
      ]
    },
    {
      "cell_type": "markdown",
      "source": [
        "Bài Tập Chương"
      ],
      "metadata": {
        "id": "MxSCQ9jNPZn1"
      }
    },
    {
      "cell_type": "markdown",
      "source": [
        "BÀI 1"
      ],
      "metadata": {
        "id": "ggoIclBBQP3h"
      }
    },
    {
      "cell_type": "code",
      "source": [
        "import sympy as sp\n",
        "A=sp.Matrix([[4,1,6],[7,-1,0],[4,6,-1]])\n",
        "he_so_kep = A.cofactor_matrix()\n",
        "print(\"Ma trận hệ số kẹp:\")\n",
        "sp.pprint(he_so_kep)\n",
        "lien_hop = A.adjugate()\n",
        "print(\"\\nMa trận liên hợp:\")\n",
        "sp.pprint(lien_hop)"
      ],
      "metadata": {
        "colab": {
          "base_uri": "https://localhost:8080/"
        },
        "id": "1gCrnaELPcNF",
        "outputId": "ba977fa6-c6f5-4a28-a2a5-2eb457030dc4"
      },
      "execution_count": null,
      "outputs": [
        {
          "output_type": "stream",
          "name": "stdout",
          "text": [
            "Ma trận hệ số kẹp:\n",
            "⎡1    7   46 ⎤\n",
            "⎢            ⎥\n",
            "⎢37  -28  -20⎥\n",
            "⎢            ⎥\n",
            "⎣6   42   -11⎦\n",
            "\n",
            "Ma trận liên hợp:\n",
            "⎡1   37    6 ⎤\n",
            "⎢            ⎥\n",
            "⎢7   -28  42 ⎥\n",
            "⎢            ⎥\n",
            "⎣46  -20  -11⎦\n"
          ]
        }
      ]
    },
    {
      "cell_type": "markdown",
      "source": [
        "BÀI 2"
      ],
      "metadata": {
        "id": "woT4XqcgQSOw"
      }
    },
    {
      "cell_type": "code",
      "source": [
        "from sympy import symbols, Matrix, simplify\n",
        "x, y = symbols('x y')\n",
        "x1, y1 = 0, 1\n",
        "x2, y2 = 2, 3\n",
        "x3, y3 = 4, 0\n",
        "M = Matrix([\n",
        "    [x**2 + y**2,   x,   y, 1],\n",
        "    [x1**2 + y1**2, x1, y1, 1],\n",
        "    [x2**2 + y2**2, x2, y2, 1],\n",
        "    [x3**2 + y3**2, x3, y3, 1],\n",
        "])\n",
        "det = simplify(M.det())\n",
        "print(\"Phương trình đường tròn:\")\n",
        "print(det, \"= 0\")"
      ],
      "metadata": {
        "colab": {
          "base_uri": "https://localhost:8080/"
        },
        "id": "7vnDmc1EQT4Y",
        "outputId": "68f648c0-fcca-407a-c5c6-8991f863ba1b"
      },
      "execution_count": null,
      "outputs": [
        {
          "output_type": "stream",
          "name": "stdout",
          "text": [
            "Phương trình đường tròn:\n",
            "-10*x**2 + 42*x - 10*y**2 + 18*y - 8 = 0\n"
          ]
        }
      ]
    }
  ]
}