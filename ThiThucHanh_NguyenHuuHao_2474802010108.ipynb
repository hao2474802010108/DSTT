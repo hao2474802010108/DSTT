{
  "nbformat": 4,
  "nbformat_minor": 0,
  "metadata": {
    "colab": {
      "provenance": []
    },
    "kernelspec": {
      "name": "python3",
      "display_name": "Python 3"
    },
    "language_info": {
      "name": "python"
    }
  },
  "cells": [
    {
      "cell_type": "markdown",
      "source": [
        "**Câu 1**"
      ],
      "metadata": {
        "id": "TchGKlxImKtI"
      }
    },
    {
      "cell_type": "code",
      "execution_count": 3,
      "metadata": {
        "colab": {
          "base_uri": "https://localhost:8080/"
        },
        "id": "Z4NprjSzmDSB",
        "outputId": "7bb4503f-d911-4c79-ac1a-41629aa9b7f5"
      },
      "outputs": [
        {
          "output_type": "stream",
          "name": "stdout",
          "text": [
            "Ma trận A: [ 2 -1  3  0]\n",
            "Ma trận B: [ 1  4 -2  5]\n",
            "Ma trận C: [[ 1  2 -1]\n",
            " [ 0  3  4]\n",
            " [ 2 -1  0]]\n"
          ]
        }
      ],
      "source": [
        "#Ma trận\n",
        "import numpy as np\n",
        "A = np.array([2, -1, 3, 0])\n",
        "B = np.array([1, 4, -2, 5])\n",
        "C = np.array([[1, 2, -1], [0, 3, 4], [2, -1, 0]])\n",
        "print(\"Ma trận A:\", A)\n",
        "print(\"Ma trận B:\", B)\n",
        "print(\"Ma trận C:\", C)"
      ]
    },
    {
      "cell_type": "markdown",
      "source": [
        "a) Tính tổng A + B và tích số 2A + 3B. (5 điểm)"
      ],
      "metadata": {
        "id": "CNJCHw4nnIZC"
      }
    },
    {
      "cell_type": "code",
      "source": [
        "tong=A+B\n",
        "tich=(2*A)+(3*B)\n",
        "print(tong)\n",
        "print(tich)"
      ],
      "metadata": {
        "colab": {
          "base_uri": "https://localhost:8080/"
        },
        "id": "t1yzKRa4nJHw",
        "outputId": "0c04ca0c-0d6e-44fa-9f59-e7c488e2c28b"
      },
      "execution_count": 4,
      "outputs": [
        {
          "output_type": "stream",
          "name": "stdout",
          "text": [
            "[3 3 1 5]\n",
            "[ 7 10  0 15]\n"
          ]
        }
      ]
    },
    {
      "cell_type": "markdown",
      "source": [
        "b) Tính tích vô hướng A · B và góc giữa hai vector (tính bằng độ, làm tròn đến 3 chữ số thập phân).(5 điểm)"
      ],
      "metadata": {
        "id": "t61Ikeg2nr0P"
      }
    },
    {
      "cell_type": "code",
      "source": [
        "Tich_vo_huong = np.dot(A, B)\n",
        "print(\"Tích vô hướng của A và B:\", Tich_vo_huong)\n",
        "Do_dai_A = np.linalg.norm(A)\n",
        "print(\"Do_dai_A\")\n",
        "Do_dai_B = np.linalg.norm(B)\n",
        "print(\"Do_dai_B\")\n",
        "Goc_do = np.degrees(np.arccos(Tich_vo_huong/ (Do_dai_A *Do_dai_B)))\n",
        "print(Goc_do)"
      ],
      "metadata": {
        "colab": {
          "base_uri": "https://localhost:8080/"
        },
        "id": "_TZwyXZAn2vx",
        "outputId": "e6a180a2-0eb5-4536-98d3-87937faded08"
      },
      "execution_count": 5,
      "outputs": [
        {
          "output_type": "stream",
          "name": "stdout",
          "text": [
            "Tích vô hướng của A và B: -8\n",
            "Do_dai_A\n",
            "Do_dai_B\n",
            "108.3755542856849\n"
          ]
        }
      ]
    },
    {
      "cell_type": "markdown",
      "source": [
        "c) Tính tích ma trận CCT\n",
        "(ma trận C nhân với chuyển vị của nó). (5 điểm)\n"
      ],
      "metadata": {
        "id": "qMSVygJ2n_aa"
      }
    },
    {
      "cell_type": "code",
      "source": [
        "Chuyen_vi_C_nhan_C = C.T @ C\n",
        "print(Chuyen_vi_C_nhan_C)"
      ],
      "metadata": {
        "colab": {
          "base_uri": "https://localhost:8080/"
        },
        "id": "3d84J2D0n2qU",
        "outputId": "357fcd29-b095-439b-d8b1-65e6ebf3e1c7"
      },
      "execution_count": 6,
      "outputs": [
        {
          "output_type": "stream",
          "name": "stdout",
          "text": [
            "[[ 5  0 -1]\n",
            " [ 0 14 10]\n",
            " [-1 10 17]]\n"
          ]
        }
      ]
    },
    {
      "cell_type": "markdown",
      "source": [
        "**Bài 2**"
      ],
      "metadata": {
        "id": "7oDP4lG1oI-o"
      }
    },
    {
      "cell_type": "code",
      "source": [
        "M = np.array([[2, -1, 3, 0], [1, 4, -2, 5], [0, 2, 6, -3], [-1,0, 1, 4]])\n",
        "N = np.array([[ 1, 3, 2,0], [4, -1, 5, 2], [0,2,3,-1], [-3,1,0,4]])\n",
        "print(\"Ma trận M:\", M)\n",
        "print(\"Ma trận N:\", N)"
      ],
      "metadata": {
        "colab": {
          "base_uri": "https://localhost:8080/"
        },
        "id": "TK-r2jqsoePP",
        "outputId": "a195534b-0cab-45ff-80bb-98609cb4f217"
      },
      "execution_count": 8,
      "outputs": [
        {
          "output_type": "stream",
          "name": "stdout",
          "text": [
            "Ma trận M: [[ 2 -1  3  0]\n",
            " [ 1  4 -2  5]\n",
            " [ 0  2  6 -3]\n",
            " [-1  0  1  4]]\n",
            "Ma trận N: [[ 1  3  2  0]\n",
            " [ 4 -1  5  2]\n",
            " [ 0  2  3 -1]\n",
            " [-3  1  0  4]]\n"
          ]
        }
      ]
    },
    {
      "cell_type": "markdown",
      "source": [
        "a) Tính tích ma trận M × N. (8 điểm"
      ],
      "metadata": {
        "id": "FTjBm09So95M"
      }
    },
    {
      "cell_type": "code",
      "source": [
        "print(M*N)"
      ],
      "metadata": {
        "colab": {
          "base_uri": "https://localhost:8080/"
        },
        "id": "mvJa1BNro84C",
        "outputId": "23366db3-641b-47a3-d1e3-4e13481bbeb7"
      },
      "execution_count": 9,
      "outputs": [
        {
          "output_type": "stream",
          "name": "stdout",
          "text": [
            "[[  2  -3   6   0]\n",
            " [  4  -4 -10  10]\n",
            " [  0   4  18   3]\n",
            " [  3   0   0  16]]\n"
          ]
        }
      ]
    },
    {
      "cell_type": "markdown",
      "source": [
        "b) Tính định thức của ma trận M. Nếu không khả thi, giải thích lý do. (6 điểm)\n"
      ],
      "metadata": {
        "id": "D9EvksO_o8YB"
      }
    },
    {
      "cell_type": "code",
      "source": [
        "Dinh_thuc_M = np.linalg.det(M)\n",
        "print(Dinh_thuc_M)"
      ],
      "metadata": {
        "colab": {
          "base_uri": "https://localhost:8080/"
        },
        "id": "fm_L5PTzpMv1",
        "outputId": "8a603e6e-5c79-4c41-aaf7-77b312cd7c25"
      },
      "execution_count": 10,
      "outputs": [
        {
          "output_type": "stream",
          "name": "stdout",
          "text": [
            "409.00000000000017\n"
          ]
        }
      ]
    },
    {
      "cell_type": "markdown",
      "source": [
        "c) Tính hạng của ma trận N. (6 điểm)"
      ],
      "metadata": {
        "id": "MWC6Vwqsod3_"
      }
    },
    {
      "cell_type": "code",
      "source": [
        "Hang_cua_N = np.linalg.matrix_rank(N)\n",
        "print(Hang_cua_N)"
      ],
      "metadata": {
        "colab": {
          "base_uri": "https://localhost:8080/"
        },
        "id": "nLbm5NCApUC5",
        "outputId": "56d7d6b9-3fe8-4547-c5ad-2b2fd3dab78b"
      },
      "execution_count": 11,
      "outputs": [
        {
          "output_type": "stream",
          "name": "stdout",
          "text": [
            "4\n"
          ]
        }
      ]
    },
    {
      "cell_type": "markdown",
      "source": [
        "**Câu 3: Nghịch đảo ma trận và giải hệ phương trình (25 điểm)**"
      ],
      "metadata": {
        "id": "t52kn0n3nvKe"
      }
    },
    {
      "cell_type": "code",
      "source": [
        "P = np.array([[3, -1, 0, 2], [1, 4, -2, -0], [0,1,5,-1], [2,0,1,3]])\n",
        "print(P)\n",
        "p = np.array([6, 8, 3, 7])\n",
        "print(p)"
      ],
      "metadata": {
        "colab": {
          "base_uri": "https://localhost:8080/"
        },
        "id": "ApLS9ImNpcSc",
        "outputId": "5772f213-0bb6-48d5-af4f-a53be9c2a840"
      },
      "execution_count": 12,
      "outputs": [
        {
          "output_type": "stream",
          "name": "stdout",
          "text": [
            "[[ 3 -1  0  2]\n",
            " [ 1  4 -2  0]\n",
            " [ 0  1  5 -1]\n",
            " [ 2  0  1  3]]\n",
            "[6 8 3 7]\n"
          ]
        }
      ]
    },
    {
      "cell_type": "markdown",
      "source": [
        "a) Tìm ma trận nghịch đảo của P. Nếu không khả nghịch, giải thích lý do. (10 điểm)"
      ],
      "metadata": {
        "id": "l4DqX3ZiqLCK"
      }
    },
    {
      "cell_type": "code",
      "source": [
        "Nghich_dao_P = np.linalg.inv(P)\n",
        "print(Nghich_dao_P)"
      ],
      "metadata": {
        "colab": {
          "base_uri": "https://localhost:8080/"
        },
        "id": "yMRltef6qMp8",
        "outputId": "8703bf0a-9914-44d6-99bb-f117f33377b6"
      },
      "execution_count": 13,
      "outputs": [
        {
          "output_type": "stream",
          "name": "stdout",
          "text": [
            "[[ 0.5         0.1         0.1        -0.3       ]\n",
            " [-0.14285714  0.2         0.05714286  0.11428571]\n",
            " [-0.03571429 -0.05        0.16428571  0.07857143]\n",
            " [-0.32142857 -0.05       -0.12142857  0.50714286]]\n"
          ]
        }
      ]
    },
    {
      "cell_type": "markdown",
      "source": [
        "b) Giải hệ phương trình trên bằng cách sử dụng nghịch đảo ma trận. (10 điểm)\n"
      ],
      "metadata": {
        "id": "HEN7E-CfqcJo"
      }
    },
    {
      "cell_type": "code",
      "source": [
        "Nghiem_he= np.linalg.solve(P, p)\n",
        "print(Nghiem_he)"
      ],
      "metadata": {
        "colab": {
          "base_uri": "https://localhost:8080/"
        },
        "id": "c21SsDFRqcvA",
        "outputId": "9feafad0-1e78-439c-9ed6-2335338a0065"
      },
      "execution_count": 17,
      "outputs": [
        {
          "output_type": "stream",
          "name": "stdout",
          "text": [
            "[2.         1.71428571 0.42857143 0.85714286]\n"
          ]
        }
      ]
    },
    {
      "cell_type": "markdown",
      "source": [
        "c) Kiểm tra nghiệm bằng cách nhân ma trận P với vector nghiệm và so sánh với vector hằng số. (5 điểm)"
      ],
      "metadata": {
        "id": "LpV4242PqwPT"
      }
    },
    {
      "cell_type": "code",
      "source": [
        "Kiem_tra_p = P @ Nghiem_he\n",
        "print(Kiem_tra_p)"
      ],
      "metadata": {
        "colab": {
          "base_uri": "https://localhost:8080/"
        },
        "id": "i45ObEk3qz_M",
        "outputId": "07021916-6f9f-4b37-fcfe-cfde081a8410"
      },
      "execution_count": 18,
      "outputs": [
        {
          "output_type": "stream",
          "name": "stdout",
          "text": [
            "[6. 8. 3. 7.]\n"
          ]
        }
      ]
    },
    {
      "cell_type": "markdown",
      "source": [
        "**Câu 4: Giá trị riêng, vector riêng và chuẩn hóa (20 điểm)**"
      ],
      "metadata": {
        "id": "nfEKgZnrrsuJ"
      }
    },
    {
      "cell_type": "code",
      "source": [
        "Q = np.array([[5,-2,1], [ 0, 3,-1], [2,0,4]])\n",
        "print(Q)"
      ],
      "metadata": {
        "colab": {
          "base_uri": "https://localhost:8080/"
        },
        "id": "yZJNf3EUq6K0",
        "outputId": "8bc36e72-1170-41fb-93f7-90ffd4b1c7f9"
      },
      "execution_count": 22,
      "outputs": [
        {
          "output_type": "stream",
          "name": "stdout",
          "text": [
            "[[ 5 -2  1]\n",
            " [ 0  3 -1]\n",
            " [ 2  0  4]]\n"
          ]
        }
      ]
    },
    {
      "cell_type": "markdown",
      "source": [
        "a) Tìm các giá trị riêng của Q. (7 điểm)"
      ],
      "metadata": {
        "id": "q4jRNLwvrKN9"
      }
    },
    {
      "cell_type": "code",
      "source": [
        "Gia_tri_rieng, Vector_rieng = np.linalg.eig(Q)\n",
        "print(Gia_tri_rieng)"
      ],
      "metadata": {
        "colab": {
          "base_uri": "https://localhost:8080/"
        },
        "id": "gwFO4_FHrK9d",
        "outputId": "40ae5321-89a0-4387-dc82-418e4726f24e"
      },
      "execution_count": 23,
      "outputs": [
        {
          "output_type": "stream",
          "name": "stdout",
          "text": [
            "[6.3553014+0.j         2.8223493+1.07730381j 2.8223493-1.07730381j]\n"
          ]
        }
      ]
    },
    {
      "cell_type": "markdown",
      "source": [
        "b) Tìm các vector riêng tương ứng với các giá trị riêng. (8 điểm)"
      ],
      "metadata": {
        "id": "2C4CaZiXrRjK"
      }
    },
    {
      "cell_type": "code",
      "source": [
        "print(Vector_rieng)"
      ],
      "metadata": {
        "colab": {
          "base_uri": "https://localhost:8080/"
        },
        "id": "mjXjv4ZQriHZ",
        "outputId": "09ca77ca-6737-4880-d19f-957d493c9cc9"
      },
      "execution_count": 27,
      "outputs": [
        {
          "output_type": "stream",
          "name": "stdout",
          "text": [
            "[[ 0.74846013+0.j         -0.37423006+0.34234215j -0.37423006-0.34234215j]\n",
            " [-0.18941773+0.j          0.09470887+0.57433055j  0.09470887-0.57433055j]\n",
            " [ 0.63555359+0.j          0.63555359+0.j          0.63555359-0.j        ]]\n"
          ]
        }
      ]
    },
    {
      "cell_type": "markdown",
      "source": [
        "c)"
      ],
      "metadata": {
        "id": "knzSejiLrVIW"
      }
    },
    {
      "cell_type": "code",
      "source": [
        "for i in range(Vector_rieng.shape[1]):\n",
        "    v = Vector_rieng[:, i]\n",
        "    v_chuan = v / np.linalg.norm(v)\n",
        "    print(f\"Vector {i+1}:\", v_chuan)"
      ],
      "metadata": {
        "colab": {
          "base_uri": "https://localhost:8080/"
        },
        "id": "xSPV4tOprWNn",
        "outputId": "f9f5f18e-f1a7-4c27-e5cf-0f0ee5f17302"
      },
      "execution_count": 26,
      "outputs": [
        {
          "output_type": "stream",
          "name": "stdout",
          "text": [
            "Vector 1: [ 0.74846013+0.j -0.18941773+0.j  0.63555359+0.j]\n",
            "Vector 2: [-0.37423006+0.34234215j  0.09470887+0.57433055j  0.63555359+0.j        ]\n",
            "Vector 3: [-0.37423006-0.34234215j  0.09470887-0.57433055j  0.63555359-0.j        ]\n"
          ]
        }
      ]
    },
    {
      "cell_type": "markdown",
      "source": [
        "Câu 5: Ứng dụng thực tế - Hệ phương trình và phân tích (20 điểm)"
      ],
      "metadata": {
        "id": "hODJ0b6lsQ7q"
      }
    },
    {
      "cell_type": "code",
      "source": [
        "R = np.array([[4, -1, 2], [1, 3, -2], [0, 2, 5]])\n",
        "print(R)\n",
        "r = np.array([12, 5, 9])\n",
        "print(r)"
      ],
      "metadata": {
        "colab": {
          "base_uri": "https://localhost:8080/"
        },
        "id": "ZkkKURIosQuH",
        "outputId": "2d1eacba-8f4e-4c62-e882-ee70a80b2279"
      },
      "execution_count": 28,
      "outputs": [
        {
          "output_type": "stream",
          "name": "stdout",
          "text": [
            "[[ 4 -1  2]\n",
            " [ 1  3 -2]\n",
            " [ 0  2  5]]\n",
            "[12  5  9]\n"
          ]
        }
      ]
    },
    {
      "cell_type": "markdown",
      "source": [
        "a) Giải hệ phương trình Rx = b bằng phương pháp np.linalg.solve(). (8 điểm)\n"
      ],
      "metadata": {
        "id": "g1uYwAB3sy12"
      }
    },
    {
      "cell_type": "code",
      "source": [
        "Nghiem_R = np.linalg.solve(R, r)\n",
        "print(Nghiem_R)"
      ],
      "metadata": {
        "colab": {
          "base_uri": "https://localhost:8080/"
        },
        "id": "i-iwBVGlstZ-",
        "outputId": "8bb5e974-b45d-4586-99e7-ad6b4d7f08a7"
      },
      "execution_count": 29,
      "outputs": [
        {
          "output_type": "stream",
          "name": "stdout",
          "text": [
            "[2.78823529 1.52941176 1.18823529]\n"
          ]
        }
      ]
    },
    {
      "cell_type": "markdown",
      "source": [
        "b) Xác định xem ma trận R có khả nghịch không. Nếu có, tính ma trận nghịch đảo và dùng nó để giải lại hệ. So sánh hai nghiệm. (7 điểm)"
      ],
      "metadata": {
        "id": "s6zxyWHAs9ST"
      }
    },
    {
      "cell_type": "code",
      "source": [
        "Nghich_dao_R = np.linalg.inv(R)\n",
        "print(Nghich_dao_R)\n",
        "Kiem_tra_lai = Nghich_dao_R @ r\n",
        "print(Kiem_tra_lai)"
      ],
      "metadata": {
        "colab": {
          "base_uri": "https://localhost:8080/"
        },
        "id": "G7jtk-Kzsu4p",
        "outputId": "5fbd810a-785b-4495-de92-f77cc8308231"
      },
      "execution_count": 30,
      "outputs": [
        {
          "output_type": "stream",
          "name": "stdout",
          "text": [
            "[[ 0.22352941  0.10588235 -0.04705882]\n",
            " [-0.05882353  0.23529412  0.11764706]\n",
            " [ 0.02352941 -0.09411765  0.15294118]]\n",
            "[2.78823529 1.52941176 1.18823529]\n"
          ]
        }
      ]
    },
    {
      "cell_type": "markdown",
      "source": [
        "c) Tính chuẩn Frobenius của ma trận R. (5 điểm)"
      ],
      "metadata": {
        "id": "1A267U1vtBFg"
      }
    },
    {
      "cell_type": "code",
      "source": [
        "Chuan_Frobenius = np.linalg.norm(R,'fro')\n",
        "print(Chuan_Frobenius)"
      ],
      "metadata": {
        "colab": {
          "base_uri": "https://localhost:8080/"
        },
        "id": "6TjqMDkbsv5O",
        "outputId": "cdc64d06-c17f-4d58-d2f2-9c6df1e9b16f"
      },
      "execution_count": 31,
      "outputs": [
        {
          "output_type": "stream",
          "name": "stdout",
          "text": [
            "8.0\n"
          ]
        }
      ]
    }
  ]
}