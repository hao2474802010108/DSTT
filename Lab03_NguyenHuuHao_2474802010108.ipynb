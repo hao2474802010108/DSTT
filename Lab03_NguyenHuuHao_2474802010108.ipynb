{
  "nbformat": 4,
  "nbformat_minor": 0,
  "metadata": {
    "colab": {
      "provenance": []
    },
    "kernelspec": {
      "name": "python3",
      "display_name": "Python 3"
    },
    "language_info": {
      "name": "python"
    }
  },
  "cells": [
    {
      "cell_type": "markdown",
      "source": [
        "CHƯƠNG 3: MA TRẬN VÀ HỆ PHƯƠNG TRÌNH TUYẾN TÍNH\n"
      ],
      "metadata": {
        "id": "T1ggWZfWTQzg"
      }
    },
    {
      "cell_type": "markdown",
      "source": [
        "Bài 1.1"
      ],
      "metadata": {
        "id": "u6vY5Aq6UmyP"
      }
    },
    {
      "cell_type": "code",
      "execution_count": null,
      "metadata": {
        "id": "eRhdb5qGSujy"
      },
      "outputs": [],
      "source": [
        "#Khởi tạo ma trận:\n",
        "from scipy import linalg\n",
        "import numpy as np\n",
        "a = np.array([1, 2, 3])\n",
        "b = np.array([(1+9j, 2j, 3j), (4j, 5j, 6j)]) # số phức\n",
        "c = np.array([[ (0.5, 1.5, 10), (3,2,1) ] , [(6,5,4), (7,8,9)]]) # ma trận số thực\n",
        "print(a)\n",
        "print(b)\n",
        "print(c)"
      ]
    },
    {
      "cell_type": "code",
      "source": [
        "#Các kiểu khai báo và khởi tạo ma trận:\n",
        "A = np.matrix(np.random.random( (2,2) ) )\n",
        "B = np.asmatrix(b)\n",
        "C = np.asmatrix(np.random.random( (10,5) ) )\n",
        "D = np.asmatrix([ [4, 3], [2, 6] ])\n",
        "F = np.eye(3, k=1)\n",
        "print(A)\n",
        "print(B)\n",
        "print(C)\n",
        "print(D)\n",
        "print(F)"
      ],
      "metadata": {
        "id": "pjJwqKfsVHoJ"
      },
      "execution_count": null,
      "outputs": []
    },
    {
      "cell_type": "code",
      "source": [
        "F = np.eye(3, k=0)\n",
        "print(F)"
      ],
      "metadata": {
        "id": "rP66aWt9Wtsu"
      },
      "execution_count": null,
      "outputs": []
    },
    {
      "cell_type": "code",
      "source": [
        "F = np.eye(3, k=-1)\n",
        "print(F)"
      ],
      "metadata": {
        "id": "vIw_qlbyWvbM"
      },
      "execution_count": null,
      "outputs": []
    },
    {
      "cell_type": "code",
      "source": [
        "#Các phép xử lý đơn giản\n",
        "\n",
        "#Xem hạng ma trận:\n",
        "C1=np.linalg.matrix_rank(C)\n",
        "#Tính ma trận nghịch đảo:\n",
        "AI=A.I\n",
        "print(AI)\n",
        "print(linalg.inv(A)) ## đây là lệnh của gói scipy, nên có thể sử dụng scipy.linalg.inv(A)\n",
        "#Định thức ma trận:\n",
        "AT=A.T #chuyển vị (dòng <--> cột)\n",
        "print(AT)\n",
        "# Chuyển vị liên hợp\n",
        "AH=A.H\n",
        "print(AH)"
      ],
      "metadata": {
        "id": "DSJuv_XxXAkt"
      },
      "execution_count": null,
      "outputs": []
    },
    {
      "cell_type": "code",
      "source": [
        "# Giải các loại phương trình tuyến tính:\n",
        "print(linalg.solve(A, b))\n",
        "print(E = np.mat(a).T)\n",
        "print(linalg.lstsq(F, E) )"
      ],
      "metadata": {
        "id": "_9ElzGLiXt0N"
      },
      "execution_count": null,
      "outputs": []
    },
    {
      "cell_type": "code",
      "source": [
        "#Các hàm trên ma trận\n",
        "#Cộng ma trận:\n",
        "print(np.add(A, D))\n",
        "#Trừ ma trận\n",
        "print(np.subtract(A, D))\n",
        "#Chia ma trận:\n",
        "print(np.divide(A, D))\n",
        "#Nhân ma trận:\n",
        "print(A @ D) # phiên bản Python 3.x\n",
        "print(np.multiply(D,A))\n",
        "print(np.dot(A, D))\n",
        "print(np.vdot(A, D))"
      ],
      "metadata": {
        "id": "1rkr2lAMZK4c"
      },
      "execution_count": null,
      "outputs": []
    },
    {
      "cell_type": "code",
      "source": [
        "#Hàm lũy thừa và logarith ma trận:\n",
        "print(linalg.expm(A) )\n",
        "print( linalg.logm(A) )"
      ],
      "metadata": {
        "id": "08qmW3a_cDJB"
      },
      "execution_count": null,
      "outputs": []
    },
    {
      "cell_type": "markdown",
      "source": [
        "Bài **2.3**:Ma trận hội tụ"
      ],
      "metadata": {
        "id": "BlKAPr0tc3PQ"
      }
    },
    {
      "cell_type": "code",
      "source": [
        "#Ma trận phân kỳ\n",
        "A = np.array([ [0,1], [1,0]])\n",
        "print(A)\n",
        "temp = A.dot(A) # tính toan lần thứ 1\n",
        "print(temp)\n",
        "\n",
        "k= 6\n",
        "for i in range(k-1):\n",
        "  temp = temp.dot(A)\n",
        "  print (temp)\n",
        "  print('---')"
      ],
      "metadata": {
        "id": "3HxVuhpGc4j4"
      },
      "execution_count": null,
      "outputs": []
    },
    {
      "cell_type": "code",
      "source": [
        "#Tính ma trận\n",
        "B = np.array([ [0,-1], [-1,0]])\n",
        "print(B)"
      ],
      "metadata": {
        "id": "tZdeEa6BgltO"
      },
      "execution_count": null,
      "outputs": []
    },
    {
      "cell_type": "code",
      "source": [
        "temp=B.dot(B) # tính toan lần thứ 1\n",
        "print(temp)"
      ],
      "metadata": {
        "id": "kEMyuIj7gvz0"
      },
      "execution_count": null,
      "outputs": []
    },
    {
      "cell_type": "code",
      "source": [
        "k= 5\n",
        "for i in range(k-1):\n",
        " temp = temp.dot(B)\n",
        " print (temp)\n",
        " print('---')"
      ],
      "metadata": {
        "id": "eM7BYaRMhA1s"
      },
      "execution_count": null,
      "outputs": []
    },
    {
      "cell_type": "code",
      "source": [
        "C = np.array([ [1, 0, 0], [0, 0.5, 1], [0, 0, 0.5] ])\n",
        "print(C)\n",
        "temp= C.dot(C) # tính toan lần thứ 1\n",
        "print(temp)"
      ],
      "metadata": {
        "id": "eJPxZU_ZhK_F"
      },
      "execution_count": null,
      "outputs": []
    },
    {
      "cell_type": "code",
      "source": [
        "k= 1000\n",
        "for i in range(k-1):\n",
        "    temp = temp.dot(C)\n",
        "print(temp)"
      ],
      "metadata": {
        "id": "4joJH5BChYok"
      },
      "execution_count": null,
      "outputs": []
    },
    {
      "cell_type": "code",
      "source": [
        "#Sau đó, thực hiện thêm 1 lần tích 1000 lần nữa:\n",
        "k= 1000\n",
        "for i in range(k-1):\n",
        "    temp = temp.dot(C)\n",
        "print(temp)"
      ],
      "metadata": {
        "id": "vOAUy3Hji7q1"
      },
      "execution_count": null,
      "outputs": []
    },
    {
      "cell_type": "code",
      "source": [
        "M = np.array([ [0.8, 0.3], [0.2, 0.7]])\n",
        "MM = M.dot(M) # tính M2, nghĩa là M2\n",
        "print (MM)\n",
        "for i in range(100): # tính các M^ khác.\n",
        "  MM = MM.dot(M)"
      ],
      "metadata": {
        "id": "zIshe9VdkElk"
      },
      "execution_count": null,
      "outputs": []
    },
    {
      "cell_type": "code",
      "source": [
        "#3.2. Phân rã ma trận LU\n",
        "M = np.array([ [0.8, 0.3], [0.2, 0.7]])\n",
        "P, L, U = linalg.lu(M)\n",
        "print (P)\n",
        "print (L)\n",
        "print (U)\n",
        "print(L.dot(U) )"
      ],
      "metadata": {
        "id": "iQepo-GeksZy"
      },
      "execution_count": null,
      "outputs": []
    },
    {
      "cell_type": "markdown",
      "source": [
        "4. Bài toán ứng dụng 1 _ Căn bản về mật mã học, mã hóa thông tin, mật khẩu"
      ],
      "metadata": {
        "id": "TbSkkhI7ackd"
      }
    },
    {
      "cell_type": "code",
      "source": [
        "import numpy as np\n",
        "\n",
        "def matrix_multiply(A, E, label):\n",
        "    try:\n",
        "        print(f\"\\n{label}. Ma trận A:\\n{A}\")\n",
        "        print(\"Ma trận E:\")\n",
        "        print(E)\n",
        "        result = A@E\n",
        "        print(f\"Kết quả sau khi nhân:\\n{result}\")\n",
        "        return result\n",
        "    except Exception as e:\n",
        "        print(f\"Lỗi khi tính toán {label}: {type(e).__name__} - {e}\")\n",
        "        return None\n",
        "if __name__ == \"__main__\":\n",
        "    E = np.array([\n",
        "        [1, -2, 2],\n",
        "        [-1,1,3],\n",
        "        [1,-1,-4]\n",
        "    ])\n",
        "    matrices = {\n",
        "        \"Kết quả 1\": np.array([[13, 11, 17]]),\n",
        "        \"Kết quả 2\": np.array([[1, 0, 11]]),\n",
        "        \"Kết quả 3\": np.array([[17, 34, 5]]),\n",
        "        \"Kết quả 4\": np.array([[0, 6, 26]]),\n",
        "        \"Kết quả 5\": np.array([[33, 0, 14]]),\n",
        "        \"Kết quả 6\": np.array([[12, 9, 34]]),\n",
        "        \"Kết quả 7\": np.array([[25, 35, 35]])\n",
        "    }\n",
        "    for label, A in matrices.items():\n",
        "        matrix_multiply(A, E, label)"
      ],
      "metadata": {
        "id": "gFfh-v1wacEX"
      },
      "execution_count": null,
      "outputs": []
    },
    {
      "cell_type": "markdown",
      "source": [
        "5.Bài toán ứng dụng 2 _ Bài toán loan tin"
      ],
      "metadata": {
        "id": "3b4XhAXqcM5K"
      }
    },
    {
      "cell_type": "code",
      "source": [
        "A = np.array([ [0,1,0,1],[0,0,1,0],[1,0,0,1],[1,1,0,0]])\n",
        "temp = A.dot(A) #A^2\n",
        "print(temp)"
      ],
      "metadata": {
        "id": "rIaoTn4ycPLP"
      },
      "execution_count": null,
      "outputs": []
    },
    {
      "cell_type": "code",
      "source": [
        "temp = temp.dot(A) #A^3\n",
        "print(temp)"
      ],
      "metadata": {
        "id": "OkNRwbpIdQbS"
      },
      "execution_count": null,
      "outputs": []
    },
    {
      "cell_type": "code",
      "source": [
        "A = np.array([ [0,1,0,1],[0,0,1,0],[1,0,0,1],[1,1,0,0]])\n",
        "sumA = A\n",
        "temp = A.dot(A)\n",
        "k = 3\n",
        "sumA = sumA + temp\n",
        "for i in range(1, k-1):\n",
        "  temp = temp.dot(A)\n",
        "  sumA = sumA + temp\n",
        "print (temp)\n",
        "print (sumA)"
      ],
      "metadata": {
        "id": "G9naHlRSdYTc"
      },
      "execution_count": null,
      "outputs": []
    },
    {
      "cell_type": "markdown",
      "source": [
        "Bài Tập Chương 3"
      ],
      "metadata": {
        "id": "ogoQnAhVdnmh"
      }
    },
    {
      "cell_type": "markdown",
      "source": [
        "Câu 1: Hãy viết chương trình bằng Python hoặc sử dụng thư viện numpy/sympy để:"
      ],
      "metadata": {
        "id": "3GdHO-POdtrT"
      }
    },
    {
      "cell_type": "code",
      "source": [
        "import numpy as np\n",
        "\n",
        "def la_ma_tran_kha_nghich(ma_tran):\n",
        "    try:\n",
        "        np.linalg.inv(ma_tran)\n",
        "        return True\n",
        "    except np.linalg.LinAlgError:\n",
        "        return False\n",
        "\n",
        "def chuoi_thanh_ma_tran(chuoi):\n",
        "    ma_ascii = [ord(ky_tu) for ky_tu in chuoi]\n",
        "    while len(ma_ascii) % 3 != 0:\n",
        "        ma_ascii.append(0)\n",
        "    return np.array(ma_ascii).reshape(-1, 3)\n",
        "\n",
        "def ma_tran_thanh_chuoi(ma_tran):\n",
        "    ky_tu = [chr(int(round(so))) for dong in ma_tran for so in dong if int(round(so)) != 0]\n",
        "    return ''.join(ky_tu)\n",
        "\n",
        "def main():\n",
        "    print(\"=== CHƯƠNG TRÌNH MÃ HÓA & GIẢI MÃ SỬ DỤNG MA TRẬN 3x3 ===\\n\")\n",
        "\n",
        "    # a. Tự chọn một ma trận khả nghịch\n",
        "    ma_tran_khoa = np.array([[2, -1, 0],[1, 1, 1],[0, -1, 2] ])\n",
        "    print(f\" Ma trận khóa được chọn:\\n{ma_tran_khoa}\\n\")\n",
        "\n",
        "    if la_ma_tran_kha_nghich(ma_tran_khoa):\n",
        "        print(\" Ma trận khả nghịch (có thể giải mã)\\n\")\n",
        "    else:\n",
        "        print(\" Ma trận không khả nghịch\")\n",
        "        return\n",
        "\n",
        "    # b. Nhập họ tên hoặc mã số sinh viên\n",
        "    chuoi_goc = input(\"Nhập họ tên hoặc mã số sinh viên: \")#Nguyễn Hữu Hạo Mssv: 2474802010108\n",
        "\n",
        "    # c. Mã hóa\n",
        "    ma_tran_du_lieu = chuoi_thanh_ma_tran(chuoi_goc)\n",
        "    print(f\"\\n Ma trận ASCII từ chuỗi:\\n{ma_tran_du_lieu}\")\n",
        "\n",
        "    ma_tran_ma_hoa = ma_tran_du_lieu @ ma_tran_khoa\n",
        "    print(f\"\\n Kết quả mã hóa:\\n{ma_tran_ma_hoa}\")\n",
        "\n",
        "    # d. Giải mã\n",
        "    ma_tran_khoa_nghich = np.linalg.inv(ma_tran_khoa)\n",
        "    ma_tran_giai_ma = ma_tran_ma_hoa @ ma_tran_khoa_nghich\n",
        "    print(f\"\\n Ma trận sau giải mã:\\n{ma_tran_giai_ma}\")\n",
        "\n",
        "    chuoi_khoi_phuc = ma_tran_thanh_chuoi(ma_tran_giai_ma)\n",
        "    print(f\"\\n Chuỗi sau khi giải mã: {chuoi_khoi_phuc}\")\n",
        "if __name__ == \"__main__\":\n",
        "    main()"
      ],
      "metadata": {
        "id": "wklsj_u6dqiq"
      },
      "execution_count": null,
      "outputs": []
    },
    {
      "cell_type": "markdown",
      "source": [
        "Câu 2:"
      ],
      "metadata": {
        "id": "9iwC69S1NS0-"
      }
    },
    {
      "cell_type": "code",
      "source": [
        "import numpy as np\n",
        "\n",
        "def tinh_p_q(ds_c):\n",
        "    \"\"\"Tính p_n và q_n từ danh sách [c0, c1, ..., cn]\"\"\"\n",
        "    p_prev, p = 1, ds_c[0]\n",
        "    q_prev, q = 0, 1\n",
        "\n",
        "    for i in range(1, len(ds_c)):\n",
        "        p_next = ds_c[i] * p + p_prev\n",
        "        q_next = ds_c[i] * q + q_prev\n",
        "        p_prev, p = p, p_next\n",
        "        q_prev, q = q, q_next\n",
        "\n",
        "    return p, q\n",
        "\n",
        "def kiem_tra_ma_tran(ds_c):\n",
        "    \"\"\"Tính tích các ma trận theo công thức\"\"\"\n",
        "    ket_qua = np.identity(2, dtype=int)\n",
        "\n",
        "    for c in ds_c:\n",
        "        A = np.array([[c, 1], [1, 0]])\n",
        "        ket_qua = np.dot(ket_qua, A)\n",
        "\n",
        "    vec = np.array([[1], [0]])\n",
        "    p_q = np.dot(ket_qua, vec)\n",
        "    return p_q.flatten()\n",
        "\n",
        "ds_8_3 = [2, 1, 2] #Đề ghi 8/3 ở trên nên em làm luôn\n",
        "ds_11_3 = [3, 1, 2] # Đề ghi 11/3 nên em làm cả 2 luôn\n",
        "\n",
        "print(\"Phân số 8/3:\")\n",
        "p, q = tinh_p_q(ds_8_3)\n",
        "print(f\"  a. Kết quả tính p_n, q_n = {p}, {q}  {p}/{q}\")\n",
        "ma_tran_ket_qua = kiem_tra_ma_tran(ds_8_3)\n",
        "print(f\"  b. Kiểm tra bằng công thức ma trận: p_n = {ma_tran_ket_qua[0]}, q_n = {ma_tran_ket_qua[1]}\")\n",
        "\n",
        "print(\"\\n Phân số 11/3:\")\n",
        "p, q = tinh_p_q(ds_11_3)\n",
        "print(f\"  a. Kết quả tính p_n, q_n = {p}, {q} {p}/{q}\")\n",
        "ma_tran_ket_qua = kiem_tra_ma_tran(ds_11_3)\n",
        "print(f\"  b. Kiểm tra bằng công thức ma trận: p_n = {ma_tran_ket_qua[0]}, q_n = {ma_tran_ket_qua[1]}\")"
      ],
      "metadata": {
        "id": "M6UdYCfINUHl"
      },
      "execution_count": null,
      "outputs": []
    }
  ]
}