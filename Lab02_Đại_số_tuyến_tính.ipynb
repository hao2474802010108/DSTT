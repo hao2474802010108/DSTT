{
  "nbformat": 4,
  "nbformat_minor": 0,
  "metadata": {
    "colab": {
      "provenance": []
    },
    "kernelspec": {
      "name": "python3",
      "display_name": "Python 3"
    },
    "language_info": {
      "name": "python"
    }
  },
  "cells": [
    {
      "cell_type": "code",
      "execution_count": null,
      "metadata": {
        "id": "jnFCLea1UQfv"
      },
      "outputs": [],
      "source": [
        "#Bai Tap Tren Lop"
      ]
    },
    {
      "cell_type": "markdown",
      "source": [
        "Bài 1"
      ],
      "metadata": {
        "id": "I3OdN0tveP-f"
      }
    },
    {
      "cell_type": "code",
      "source": [
        "#Hàm “scale” tỉ số vector bằng một giá trị thực\n",
        "def scale(a, v):\n",
        "    return [a*vi for vi in v]\n",
        "v=[3,5,7]\n",
        "print(f\"Hàm “scale” tỉ số vector bằng một giá trị thực\",10,v)\n",
        "\n",
        "#Hàm lấy tổng hai vector\n",
        "def sumvector(v, w):\n",
        "    return [vi+wi for (vi, wi) in zip(v, w)]\n",
        "v = [3,5,7]\n",
        "w = [2,4,6]\n",
        "print(f\"Hàm lấy tổng hai vector\",sumvector(v, w))\n",
        "\n",
        "#Hàm nhân 2 vector vô hướng\n",
        "def dotvector(v, w):\n",
        "    return sum([vi*wi for (vi, wi) in zip(v, w)])\n",
        "print(f\"Hàm nhân 2 vector vô hướng\",dotvector(v, w))\n",
        "\n",
        "#Hàm tính chiều dài một vector\n",
        "def lenvector(v):\n",
        "    return dotvector(v,v)\n",
        "print(f\"Hàm tính chiều dài một vector\",lenvector(w) )"
      ],
      "metadata": {
        "id": "jpWKyWfZUZOn"
      },
      "execution_count": null,
      "outputs": []
    },
    {
      "cell_type": "markdown",
      "source": [
        "Bài 2.1"
      ],
      "metadata": {
        "id": "hLl-yShYfV9E"
      }
    },
    {
      "cell_type": "code",
      "source": [
        "#phân loại tuyến tính\n",
        "import numpy as np\n",
        "scores = np.array([-1, 1, 2, -3, 5, -4])\n",
        "print(scores)\n",
        "print(scores >= 0)\n",
        "print(scores < 0 )\n",
        "print(np.where(scores >= 0, \"so duong\", \"so am\"))\n",
        "\n"
      ],
      "metadata": {
        "id": "o23HxdMRfXQZ"
      },
      "execution_count": null,
      "outputs": []
    },
    {
      "cell_type": "markdown",
      "source": [
        "Bài 2.2"
      ],
      "metadata": {
        "id": "wl2Bo3d8niyv"
      }
    },
    {
      "cell_type": "code",
      "source": [
        "#np.select có thể phân loại thành 3 loại:\n",
        "scores = np.array([-1, 1, 2, 0, -3, 5, 0, -4])\n",
        "print(np.where(scores > 0, \"so duong\", np.where(scores == 0, \"so 0\", \"so am\")))"
      ],
      "metadata": {
        "id": "MRSwuAdSniWF"
      },
      "execution_count": null,
      "outputs": []
    },
    {
      "cell_type": "markdown",
      "source": [
        "Bài 3.1"
      ],
      "metadata": {
        "id": "nmWvmJstfnOY"
      }
    },
    {
      "cell_type": "code",
      "source": [
        "#1\n",
        "import numpy as np\n",
        "from scipy import linalg, sparse"
      ],
      "metadata": {
        "collapsed": true,
        "id": "fh2Kh7Vfflzt"
      },
      "execution_count": null,
      "outputs": []
    },
    {
      "cell_type": "code",
      "source": [
        "#2\n",
        "D = np.asmatrix([ [3,4], [5,6] ])\n",
        "print(D)"
      ],
      "metadata": {
        "id": "p3u37kOcm0ir"
      },
      "execution_count": null,
      "outputs": []
    },
    {
      "cell_type": "code",
      "source": [
        "#3\n",
        "C = np.asmatrix(np.random.random((5,7)))\n",
        "print(C)"
      ],
      "metadata": {
        "id": "6Yp3YGzom8ZY"
      },
      "execution_count": null,
      "outputs": []
    },
    {
      "cell_type": "code",
      "source": [
        "#4\n",
        "A =np.asmatrix(np.random.random((2,2)))\n",
        "print(A)"
      ],
      "metadata": {
        "id": "a3NULT9RnCc8"
      },
      "execution_count": null,
      "outputs": []
    },
    {
      "cell_type": "code",
      "source": [
        "#5\n",
        "b = np.array([(1+5j, 2j, 3j),(4, 5,6)])\n",
        "print(b)\n",
        "B = np.asmatrix(b)\n",
        "print(B)"
      ],
      "metadata": {
        "id": "v6FrNy03nLx-"
      },
      "execution_count": null,
      "outputs": []
    },
    {
      "cell_type": "code",
      "source": [
        "#6\n",
        "print(A.T)\n",
        "print(A.I)"
      ],
      "metadata": {
        "id": "EfpIFqV_nUPQ"
      },
      "execution_count": null,
      "outputs": []
    },
    {
      "cell_type": "code",
      "source": [
        "#7\n",
        "print(linalg.inv(A))\n",
        "M = np.array([[-1,3,2],[0,-2,1],[1,5,-2]])"
      ],
      "metadata": {
        "id": "16nLbQpYnm5s"
      },
      "execution_count": null,
      "outputs": []
    },
    {
      "cell_type": "code",
      "source": [
        "#8\n",
        "M_lower = np.tril(M)\n",
        "print(M_lower)"
      ],
      "metadata": {
        "id": "Ebr5Xc8mnqB2"
      },
      "execution_count": null,
      "outputs": []
    },
    {
      "cell_type": "code",
      "source": [
        "#9\n",
        "M = np.array([[-1,3,2],[0,-2,1],[1,5,-2]])\n",
        "M_upper = np.triu(M)\n",
        "print(M_upper)"
      ],
      "metadata": {
        "id": "ibs6z4ppnyGd"
      },
      "execution_count": null,
      "outputs": []
    },
    {
      "cell_type": "code",
      "source": [
        "#10\n",
        "M = np.array([[-1,3,2],[0,-2,1],[1,5,-2]])\n",
        "v_diag = np.diag(M)\n",
        "print (v_diag)\n",
        "M_diag = np.diag(v_diag)\n",
        "print (M_diag)"
      ],
      "metadata": {
        "id": "S2tysVjCn33V"
      },
      "execution_count": null,
      "outputs": []
    },
    {
      "cell_type": "code",
      "source": [
        "#11\n",
        "import sympy as sp\n",
        "x = sp.Symbol('x')\n",
        "y = sp.Symbol('y')\n",
        "z = sp.Symbol('z')\n",
        "sp.solve([x*x + 2 - 6,y - 1 - 6,x + z - 1,2*x*x - 8,z*z + 4 - 5,y - z - 8], [x, y, z])"
      ],
      "metadata": {
        "id": "12dMRLgqoBU7"
      },
      "execution_count": null,
      "outputs": []
    },
    {
      "cell_type": "markdown",
      "source": [
        "Bài 3.2"
      ],
      "metadata": {
        "id": "5OiJ2GUCoD1Z"
      }
    },
    {
      "cell_type": "code",
      "source": [
        "import numpy as np\n",
        "A = np.reshape(np.arange(36.0), (6,6))\n",
        "print (A)"
      ],
      "metadata": {
        "id": "dmg4Sv8No-BB"
      },
      "execution_count": null,
      "outputs": []
    },
    {
      "cell_type": "code",
      "source": [
        "I6 = np.identity(6)\n",
        "print (I6)"
      ],
      "metadata": {
        "id": "vyWBHKMMpYOj"
      },
      "execution_count": null,
      "outputs": []
    },
    {
      "cell_type": "code",
      "source": [
        "print(A.size)"
      ],
      "metadata": {
        "id": "N2FIJoJupupB"
      },
      "execution_count": null,
      "outputs": []
    },
    {
      "cell_type": "code",
      "source": [
        "print(np.matrix.diagonal(A) )"
      ],
      "metadata": {
        "id": "uK0Vi87xp2qq"
      },
      "execution_count": null,
      "outputs": []
    },
    {
      "cell_type": "code",
      "source": [
        "A = A + I6\n",
        "print(A)"
      ],
      "metadata": {
        "id": "ZDOwRvqUp-cm"
      },
      "execution_count": null,
      "outputs": []
    },
    {
      "cell_type": "code",
      "source": [
        "vecB = np.array([1., 2., 3., 4., 5., 6.])\n",
        "print(vecB)"
      ],
      "metadata": {
        "id": "Z8Uiqg28qG5p"
      },
      "execution_count": null,
      "outputs": []
    },
    {
      "cell_type": "code",
      "source": [
        "C = A.dot(vecB)\n",
        "print(C)"
      ],
      "metadata": {
        "id": "UipGjZG6qNGM"
      },
      "execution_count": null,
      "outputs": []
    },
    {
      "cell_type": "code",
      "source": [
        "#Khai báo ma trận D 2x6\n",
        "import numpy as np\n",
        "D = np.array([[1., 2., 3., 4., 5., 6.],[1., 0., 1., 0., 1., 0.]])\n",
        "print(D)"
      ],
      "metadata": {
        "id": "aleZD0_UjIMt"
      },
      "execution_count": null,
      "outputs": []
    },
    {
      "cell_type": "code",
      "source": [
        "A = np.array([[1, 2],\n",
        "              [3, 4],\n",
        "              [5, 6]])\n",
        "E = A.dot(D)\n",
        "print(E)"
      ],
      "metadata": {
        "id": "jiXmJ-yaj_fg"
      },
      "execution_count": null,
      "outputs": []
    },
    {
      "cell_type": "code",
      "source": [
        "A = np.array([[1, 2],[3, 4],[5, 6]])\n",
        "F = np.array([[1, 2, 3],[4, 5, 6]])\n",
        "G = A.dot(F)\n",
        "print(F)\n"
      ],
      "metadata": {
        "id": "sacHFQaNkD69"
      },
      "execution_count": null,
      "outputs": []
    },
    {
      "cell_type": "code",
      "source": [
        "print(G)"
      ],
      "metadata": {
        "id": "5NhePCcimMmN"
      },
      "execution_count": null,
      "outputs": []
    },
    {
      "cell_type": "code",
      "source": [
        "A = np.array([[1, 2],\n",
        "              [3, 4]])\n",
        "inv_A = np.linalg.inv(A) #Nghịch đảo phải dùng ma trận vuông\n",
        "print(inv_A)"
      ],
      "metadata": {
        "id": "87pS7VyGma6N"
      },
      "execution_count": null,
      "outputs": []
    },
    {
      "cell_type": "code",
      "source": [
        "print(np.linalg.inv(np.linalg.inv(A)))"
      ],
      "metadata": {
        "id": "OO0-EX3nnHyr"
      },
      "execution_count": null,
      "outputs": []
    },
    {
      "cell_type": "markdown",
      "source": [
        "Bài 4"
      ],
      "metadata": {
        "id": "eGRmqzWNnhPe"
      }
    },
    {
      "cell_type": "code",
      "source": [
        "A = np.array( [ [1,1], [1,0] ] )\n",
        "b = np.array([1, 0])\n",
        "n = 10\n",
        "for i in range(n):\n",
        "  b = A.dot(b)\n",
        "  print(b)"
      ],
      "metadata": {
        "id": "q4oszqa4natz"
      },
      "execution_count": null,
      "outputs": []
    },
    {
      "cell_type": "markdown",
      "source": [
        "Bài 5"
      ],
      "metadata": {
        "id": "xvCb3aLzoJaA"
      }
    },
    {
      "cell_type": "code",
      "source": [
        "import sympy as sp\n",
        "from sympy import Symbol\n",
        "x1 = Symbol('x1')\n",
        "x2 = Symbol('x2')\n",
        "x3 = Symbol('x3')\n",
        "x4 = Symbol('x4')\n",
        "from sympy import solve\n",
        "pt1 = x4+610-450-x1\n",
        "pt2 = x1+400-x2-640\n",
        "pt3 = x2+600-x3\n",
        "pt4 = x3-x4-520\n",
        "nghiem = sp.solve((pt1, pt2, pt3, pt4))\n",
        "print(nghiem)"
      ],
      "metadata": {
        "id": "A0_OkfgkoKgr"
      },
      "execution_count": null,
      "outputs": []
    },
    {
      "cell_type": "code",
      "source": [
        "import numpy as np\n",
        "A = np.matrix([[-1, 0, 0, 1],\n",
        "               [ 1, -1, 0, 0],\n",
        "               [ 0, 1, -1, 0],\n",
        "               [ 0, 0, 1, -1]])\n",
        "det_A = np.linalg.det(A)\n",
        "print(\"Định thức của A:\", det_A)\n",
        "if det_A != 0:\n",
        "    A_nghichdao = np.linalg.inv(A)\n",
        "    print(\"Ma trận nghịch đảo:\\n\", A_nghichdao)\n",
        "else:\n",
        "    print(\"Ma trận A không khả nghịch (singular matrix)\")"
      ],
      "metadata": {
        "colab": {
          "base_uri": "https://localhost:8080/"
        },
        "id": "lz9vsT-4pevo",
        "outputId": "009b60c5-1996-4ce2-c0a2-84423c470644"
      },
      "execution_count": 36,
      "outputs": [
        {
          "output_type": "stream",
          "name": "stdout",
          "text": [
            "Định thức của A: 0.0\n",
            "Ma trận A không khả nghịch (singular matrix)\n"
          ]
        }
      ]
    },
    {
      "cell_type": "markdown",
      "source": [
        "BÀI TẬP CHƯƠNG 2"
      ],
      "metadata": {
        "id": "-RAC6ip2s_UB"
      }
    },
    {
      "cell_type": "markdown",
      "source": [
        "CÂU 1: GIẢI 4 VẤN ĐỀ"
      ],
      "metadata": {
        "id": "n4xXsXe6uXKV"
      }
    },
    {
      "cell_type": "markdown",
      "source": [
        "VẤN ĐỀ 1"
      ],
      "metadata": {
        "id": "0ujoTu2stBRS"
      }
    },
    {
      "cell_type": "code",
      "source": [
        "import numpy as np\n",
        "A = np.array([[1, -1], [2, 3]])\n",
        "b = np.array([-2, 6])\n",
        "solution = np.linalg.solve(A, b)\n",
        "print(\"Giao điểm (x, y):\", solution)"
      ],
      "metadata": {
        "colab": {
          "base_uri": "https://localhost:8080/"
        },
        "id": "SgA9pcWtqCPM",
        "outputId": "859efeb1-6801-412b-8f3e-905d20c4f784"
      },
      "execution_count": 37,
      "outputs": [
        {
          "output_type": "stream",
          "name": "stdout",
          "text": [
            "Điểm giao là: (0.0, 2.0)\n"
          ]
        }
      ]
    },
    {
      "cell_type": "markdown",
      "source": [
        "VẤN ĐỀ 2"
      ],
      "metadata": {
        "id": "_8L9axM4tILe"
      }
    },
    {
      "cell_type": "code",
      "source": [
        "A = np.array([[1, -1, 0], [2, -1, -1], [1, 1, 1]])\n",
        "b = np.array([2, 3, 6])\n",
        "solution = np.linalg.solve(A, b)\n",
        "print(\"Giao điểm (x, y, z):\", solution)"
      ],
      "metadata": {
        "id": "YFMPQGhZtca0"
      },
      "execution_count": null,
      "outputs": []
    },
    {
      "cell_type": "markdown",
      "source": [
        "VẤN ĐỀ 3"
      ],
      "metadata": {
        "id": "B-DXZNjpuQUM"
      }
    },
    {
      "cell_type": "code",
      "source": [
        "A = np.array([[1, 1, 1], [4, 2, 1], [9, 3, 1]])\n",
        "b = np.array([4, 3, 4])\n",
        "coefficients = np.linalg.solve(A, b)\n",
        "print(\"Hệ số đa thức (a, b, c):\", coefficients)"
      ],
      "metadata": {
        "id": "atW6Bnn5uCTt"
      },
      "execution_count": null,
      "outputs": []
    },
    {
      "cell_type": "markdown",
      "source": [
        "VẤN ĐỀ 4"
      ],
      "metadata": {
        "id": "n0b3k437ubWN"
      }
    },
    {
      "cell_type": "code",
      "source": [
        "# Giải hệ tìm hệ số phân rã\n",
        "A=np.array([[1,0,1],[1,1,-2],[-2,2,1]])\n",
        "b=np.array([1,-3,0])\n",
        "a,b,c=np.linalg.solve(A, b)\n",
        "print(\"Hệ số phân rã (a,b,c):\",[a,b,c])\n",
        "# Tránh điểm kì dị\n",
        "from scipy.integrate import quad\n",
        "def integrand(x):\n",
        "    return (a/(x-1))+(b/(x-1)**2)+(c/(x+2))\n",
        "result,_=quad(integrand,0,0.9999)\n",
        "print(\"Tích phân số (x=0→0.9999):\",result)"
      ],
      "metadata": {
        "id": "4APV2tWrvQP7"
      },
      "execution_count": null,
      "outputs": []
    },
    {
      "cell_type": "markdown",
      "source": [
        "CÂU 2: Hãy viết các câu lệnh của sympy để giải các phương trình ở Câu 1"
      ],
      "metadata": {
        "id": "Qg4sTHCRvWig"
      }
    },
    {
      "cell_type": "markdown",
      "source": [
        "VẤN ĐỀ 1"
      ],
      "metadata": {
        "id": "kKt3yvjpwNmz"
      }
    },
    {
      "cell_type": "code",
      "source": [
        "from sympy import symbols, Eq, solve\n",
        "\n",
        "x, y = symbols('x y')\n",
        "eq1 = Eq(x - y, -2)\n",
        "eq2 = Eq(2*x + 3*y, 6)\n",
        "\n",
        "solution = solve((eq1, eq2), (x, y))\n",
        "print(\"Giao điểm (x, y):\", solution)"
      ],
      "metadata": {
        "id": "tZoI-ElJwMdU"
      },
      "execution_count": null,
      "outputs": []
    },
    {
      "cell_type": "markdown",
      "source": [
        "VẤN ĐỀ 2"
      ],
      "metadata": {
        "id": "o_WKDO_3wPn9"
      }
    },
    {
      "cell_type": "code",
      "source": [
        "x, y, z = symbols('x y z')\n",
        "eq1 = Eq(x - y, 2)\n",
        "eq2 = Eq(2*x - y - z, 3)\n",
        "eq3 = Eq(x + y + z, 6)\n",
        "\n",
        "solution = solve((eq1, eq2, eq3), (x, y, z))\n",
        "print(\"Giao điểm (x, y, z):\", solution)"
      ],
      "metadata": {
        "id": "zUXh5Jg8wSMz"
      },
      "execution_count": null,
      "outputs": []
    },
    {
      "cell_type": "markdown",
      "source": [
        "VẤN ĐỀ 3"
      ],
      "metadata": {
        "id": "FVTSC5okwWP4"
      }
    },
    {
      "cell_type": "code",
      "source": [
        "a, b, c = symbols('a b c')\n",
        "eq1 = Eq(a + b + c, 4)\n",
        "eq2 = Eq(4*a + 2*b + c, 3)\n",
        "eq3 = Eq(9*a + 3*b + c, 4)\n",
        "\n",
        "solution = solve((eq1, eq2, eq3), (a, b, c))\n",
        "p = solution[a]*x**2 + solution[b]*x + solution[c]\n",
        "print(\"Đa thức p(x):\", p)"
      ],
      "metadata": {
        "id": "ri8pB8kLwU1z"
      },
      "execution_count": null,
      "outputs": []
    },
    {
      "cell_type": "markdown",
      "source": [
        "VẤN ĐỀ 4"
      ],
      "metadata": {
        "id": "mwXl4WocwYzu"
      }
    },
    {
      "cell_type": "code",
      "source": [
        "from sympy import apart, integrate\n",
        "R = (x*(x - 3)) / ((x - 1)**2 * (x + 2))\n",
        "partial_fraction = apart(R, x)\n",
        "print(\"Phân rã:\", partial_fraction)\n",
        "try:\n",
        "    integral = integrate(R, (x, 0, 1))\n",
        "    print(\"Tích phân:\", integral)\n",
        "except:\n",
        "    print(\"Tích phân phân kỳ tại x=1\")"
      ],
      "metadata": {
        "id": "SDtc9X5JwYM0"
      },
      "execution_count": null,
      "outputs": []
    },
    {
      "cell_type": "markdown",
      "source": [
        "CÂU 3"
      ],
      "metadata": {
        "id": "Kk5fuf0OxhHm"
      }
    },
    {
      "cell_type": "code",
      "source": [
        "# SymPy\n",
        "from sympy import Matrix,symbols,simplify\n",
        "k=symbols('k',integer=True,positive=True)\n",
        "F=Matrix([[1,1],[1,0]])\n",
        "F_k=F**k\n",
        "print(\"Dạng tổng quát của F^k:\")\n",
        "display(F_k)\n",
        "\n",
        "#NumPy\n",
        "import numpy as np\n",
        "def fibonacci_matrix(k):\n",
        "    F=np.array([[1,1],[1,0]])\n",
        "    return np.linalg.matrix_power(F,k)\n",
        "k=5\n",
        "F_5=fibonacci_matrix(k)\n",
        "print(f\"\\nMa trận F^{k}:\")\n",
        "print(F_5)"
      ],
      "metadata": {
        "id": "pjM8F7u_xi7j"
      },
      "execution_count": null,
      "outputs": []
    }
  ]
}