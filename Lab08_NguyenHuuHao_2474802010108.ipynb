{
  "nbformat": 4,
  "nbformat_minor": 0,
  "metadata": {
    "colab": {
      "provenance": []
    },
    "kernelspec": {
      "name": "python3",
      "display_name": "Python 3"
    },
    "language_info": {
      "name": "python"
    }
  },
  "cells": [
    {
      "cell_type": "markdown",
      "source": [
        "Bài tập 1"
      ],
      "metadata": {
        "id": "OznvwLaVzmYx"
      }
    },
    {
      "cell_type": "code",
      "execution_count": null,
      "metadata": {
        "id": "C9kh2pS8kNtU",
        "colab": {
          "base_uri": "https://localhost:8080/"
        },
        "outputId": "c9357315-9191-42d2-8386-324d15c56340"
      },
      "outputs": [
        {
          "output_type": "stream",
          "name": "stdout",
          "text": [
            "[ 18 -11   9  -8]\n"
          ]
        }
      ],
      "source": [
        "import numpy as np\n",
        "u = np.array([2,-1,5,0])\n",
        "v = np.array([4,3,1,-1])\n",
        "w = np.array([-6,2,0,3])\n",
        "x = 2*u-(v+3*w)\n",
        "print (x)"
      ]
    },
    {
      "cell_type": "code",
      "source": [
        "x=0.5*(2*u-v-3*w)\n",
        "print (x)"
      ],
      "metadata": {
        "colab": {
          "base_uri": "https://localhost:8080/"
        },
        "id": "uu4oPLhTmsy-",
        "outputId": "139c7dd7-423f-4a46-8fe8-0afd6075e825"
      },
      "execution_count": null,
      "outputs": [
        {
          "output_type": "stream",
          "name": "stdout",
          "text": [
            "[ 9.  -5.5  4.5 -4. ]\n"
          ]
        }
      ]
    },
    {
      "cell_type": "code",
      "source": [
        "Bài toán 2"
      ],
      "metadata": {
        "id": "YzUufS4szocS"
      },
      "execution_count": null,
      "outputs": []
    },
    {
      "cell_type": "code",
      "source": [
        "from numpy import linalg\n",
        "A = np.matrix([[0, -1, 3],[1, 1, 1],[4, 2, 2]])\n",
        "B = np.array([-1, -2, -2])\n",
        "X = np.linalg.solve(A, B)\n",
        "print (X)"
      ],
      "metadata": {
        "colab": {
          "base_uri": "https://localhost:8080/"
        },
        "id": "kSZy3arenBRk",
        "outputId": "2e762e87-7642-44b2-ed44-76bdda630d40"
      },
      "execution_count": null,
      "outputs": [
        {
          "output_type": "stream",
          "name": "stdout",
          "text": [
            "[ 1. -2. -1.]\n"
          ]
        }
      ]
    },
    {
      "cell_type": "markdown",
      "source": [
        "Bài toán 3"
      ],
      "metadata": {
        "id": "OrcFZE8rzwNe"
      }
    },
    {
      "cell_type": "code",
      "source": [
        "A = np.matrix([[1,0],[0,0]])\n",
        "B = np.matrix([[0,0],[0,1]])\n",
        "from numpy import linalg as LA\n",
        "try:\n",
        "     LA.inv(A)\n",
        "except Exception as e:\n",
        "     print(e)\n",
        "try:\n",
        "     LA.inv(B)\n",
        "except Exception as e:\n",
        "     print(e)\n",
        "try:\n",
        "     print(LA.inv(A + B))\n",
        "except Exception as e:\n",
        "     print(e)"
      ],
      "metadata": {
        "colab": {
          "base_uri": "https://localhost:8080/"
        },
        "id": "nBRQiZTLnKHP",
        "outputId": "6dac36ee-6f53-4b31-eae5-3e5fb73755ea"
      },
      "execution_count": null,
      "outputs": [
        {
          "output_type": "stream",
          "name": "stdout",
          "text": [
            "Singular matrix\n",
            "Singular matrix\n",
            "[[1. 0.]\n",
            " [0. 1.]]\n"
          ]
        }
      ]
    },
    {
      "cell_type": "code",
      "source": [
        "  import numpy as np\n",
        "from numpy import linalg as LA\n",
        "A = np.matrix([[1,0],[0,0]])\n",
        "B = np.matrix([[0,0],[0,1]])\n",
        "try:\n",
        "    print(\"det(A):\", LA.det(A))\n",
        "except Exception as e:\n",
        "    print(\"Lỗi khi tính định thức A:\", e)\n",
        "try:\n",
        "    print(\"det(B):\", LA.det(B))\n",
        "except Exception as e:\n",
        "    print(\"Lỗi khi tính định thức B:\", e)\n",
        "try:\n",
        "    print(\"det(A + B):\", LA.det(A + B))\n",
        "except Exception as e:\n",
        "    print(\"Lỗi khi tính định thức A + B:\", e)"
      ],
      "metadata": {
        "colab": {
          "base_uri": "https://localhost:8080/"
        },
        "id": "RzBqaSqbn9GD",
        "outputId": "875e8e43-908e-4701-bf47-9b4467b1797c"
      },
      "execution_count": null,
      "outputs": [
        {
          "output_type": "stream",
          "name": "stdout",
          "text": [
            "det(A): 0.0\n",
            "det(B): 0.0\n",
            "det(A + B): 1.0\n"
          ]
        }
      ]
    },
    {
      "cell_type": "markdown",
      "source": [
        "Bài toán 4"
      ],
      "metadata": {
        "id": "TW2TeD-FzeiA"
      }
    },
    {
      "cell_type": "code",
      "source": [
        "import math\n",
        "import sympy as sp\n",
        "x, y = sp.symbols('x y') # khai báo 2 biến x và y\n",
        "A = sp.Matrix([[x, y],[y, x]]) # lưu ý: kiểu ma trận của sympy là ‘Matrix’ (viết hoa)\n",
        "x1, y1 = sp.symbols('x1 y1')\n",
        "A1 = sp.Matrix([[x1, y1],[y1, x1]])\n",
        "x2, y2 = sp.symbols('x2 y2')\n",
        "A2 = sp.Matrix([[x2, y2],[y2, x2]])\n",
        "print(A1.T)\n",
        "print((A1+A2).T)\n",
        "print(((A1+A2).T).equals(A1+A2))\n",
        "c=sp.symbols('c')\n",
        "print(c*A)\n",
        "print(((c*A).T).equals(c*A))"
      ],
      "metadata": {
        "colab": {
          "base_uri": "https://localhost:8080/"
        },
        "id": "TuCcB4btrSE0",
        "outputId": "7484eb7c-cc3a-4b4e-d58f-b9c42db82c75"
      },
      "execution_count": null,
      "outputs": [
        {
          "output_type": "stream",
          "name": "stdout",
          "text": [
            "Matrix([[x1, y1], [y1, x1]])\n",
            "Matrix([[x1 + x2, y1 + y2], [y1 + y2, x1 + x2]])\n",
            "True\n",
            "Matrix([[c*x, c*y], [c*y, c*x]])\n",
            "True\n"
          ]
        }
      ]
    },
    {
      "cell_type": "markdown",
      "source": [
        "Bài toán 5"
      ],
      "metadata": {
        "id": "3eNFdB0azbxn"
      }
    },
    {
      "cell_type": "code",
      "source": [
        "import numpy as np\n",
        "V = np.column_stack([\n",
        "    [1, 2, 3],   # v1\n",
        "    [0, 1, 2],   # v2\n",
        "    [-1, 0, 1]   # v3\n",
        "])\n",
        "\n",
        "#a Kiểm tra (1,1,1)\n",
        "w1 = np.array([1, 1, 1])\n",
        "try:\n",
        "    c = np.linalg.solve(V, w1)\n",
        "    print(\"Vector w1 là tổ hợp tuyến tính của v1, v2, v3 với hệ số:\", c)\n",
        "except np.linalg.LinAlgError as e:\n",
        "    print(\"Vector w1 KHÔNG là tổ hợp tuyến tính:\", e)\n",
        "\n",
        "#b Kiểm tra(1, -2, 2)\n",
        "w2 = np.array([1, -2, 2])\n",
        "try:\n",
        "    c = np.linalg.solve(V, w2)\n",
        "    print(\"Vector w2 là tổ hợp tuyến tính của v1, v2, v3 với hệ số:\", c)\n",
        "except np.linalg.LinAlgError as e:\n",
        "    print(\"Vector w2 KHÔNG là tổ hợp tuyến tính:\", e)"
      ],
      "metadata": {
        "colab": {
          "base_uri": "https://localhost:8080/"
        },
        "id": "dfeETgAQsORx",
        "outputId": "1eab895e-10cf-475b-e2ae-f5280f44f59e"
      },
      "execution_count": null,
      "outputs": [
        {
          "output_type": "stream",
          "name": "stdout",
          "text": [
            "Vector w1 là tổ hợp tuyến tính của v1, v2, v3 với hệ số: [ 5.00000000e-01 -1.66533454e-16 -5.00000000e-01]\n",
            "Vector w2 là tổ hợp tuyến tính của v1, v2, v3 với hệ số: [ 3.15251974e+16 -6.30503948e+16  3.15251974e+16]\n"
          ]
        }
      ]
    },
    {
      "cell_type": "markdown",
      "source": [
        "Bài toán 6"
      ],
      "metadata": {
        "id": "OkfFsez2zZQF"
      }
    },
    {
      "cell_type": "code",
      "source": [
        "import sympy as sp\n",
        "c1, c2, c3 = sp.symbols('c1 c2 c3')\n",
        "tong=sp.solve([c1 - 2*c3, 2*c1 + c2, 3*c1 + 2*c2 + c3], [c1, c2, c3])\n",
        "print(tong)"
      ],
      "metadata": {
        "colab": {
          "base_uri": "https://localhost:8080/"
        },
        "id": "vQMjiU6OwEq5",
        "outputId": "22e4f43c-ed5c-4c74-f16c-77704180b3f7"
      },
      "execution_count": null,
      "outputs": [
        {
          "output_type": "stream",
          "name": "stdout",
          "text": [
            "{c1: 0, c2: 0, c3: 0}\n"
          ]
        }
      ]
    },
    {
      "cell_type": "markdown",
      "source": [
        "Bài toán 7"
      ],
      "metadata": {
        "id": "BKtDdw4bzYLF"
      }
    },
    {
      "cell_type": "code",
      "source": [
        "import sympy as sp\n",
        "c1, c2 = sp.symbols('c1 c2')\n",
        "u1, u2 = sp.symbols('u1 u2')\n",
        "c=sp.solve([c1+c2-u1,c1-c2-u2])\n",
        "print(c)\n",
        "u1 = 0\n",
        "u2 = 0\n",
        "u = sp.solve([c1+c2-u1,c1-c2-u2])\n",
        "print(u)"
      ],
      "metadata": {
        "colab": {
          "base_uri": "https://localhost:8080/"
        },
        "id": "ze516kddwK5H",
        "outputId": "3574918e-3199-4ca8-b972-0b9e70af4ca2"
      },
      "execution_count": null,
      "outputs": [
        {
          "output_type": "stream",
          "name": "stdout",
          "text": [
            "{c1: u1/2 + u2/2, c2: u1/2 - u2/2}\n",
            "{c1: 0, c2: 0}\n"
          ]
        }
      ]
    },
    {
      "cell_type": "code",
      "source": [
        "import numpy as np\n",
        "P = np.array([[0,0,3,3,1,1,2,2,1,1],[0,5,5,4,4,3,3,2,2,0]])\n",
        "vecdelta = np.array([4,2])\n",
        "P_caua = (P.T + vecdelta).T\n",
        "print (P_caua)"
      ],
      "metadata": {
        "colab": {
          "base_uri": "https://localhost:8080/"
        },
        "id": "Woga4Aa8wQBa",
        "outputId": "341c4589-5c63-4200-fd96-f2df0e11f6c4"
      },
      "execution_count": null,
      "outputs": [
        {
          "output_type": "stream",
          "name": "stdout",
          "text": [
            "[[4 4 7 7 5 5 6 6 5 5]\n",
            " [2 7 7 6 6 5 5 4 4 2]]\n"
          ]
        }
      ]
    },
    {
      "cell_type": "code",
      "source": [
        "import numpy as np\n",
        "P=np.array([[0,0,3,3,1,1,2,2,1,1],[0,5,5,4,4,3,3,2,2,0]])\n",
        "vecdelta=np.array([4,-2])\n",
        "matran_biendoi = np.array([[1.0, 0.0],[0.0, 2.0]])\n",
        "P_caub=(P.T@matran_biendoi+vecdelta).T\n",
        "print(P_caub)"
      ],
      "metadata": {
        "colab": {
          "base_uri": "https://localhost:8080/"
        },
        "id": "NFsk1aaIxkZw",
        "outputId": "ea86bd0b-5e4e-4a62-e294-873523edda3e"
      },
      "execution_count": null,
      "outputs": [
        {
          "output_type": "stream",
          "name": "stdout",
          "text": [
            "[[ 4.  4.  7.  7.  5.  5.  6.  6.  5.  5.]\n",
            " [-2.  8.  8.  6.  6.  4.  4.  2.  2. -2.]]\n"
          ]
        }
      ]
    },
    {
      "cell_type": "code",
      "source": [
        "import sympy as sp\n",
        "from sympy import lambdify\n",
        "14\n",
        "x1, x2, x3 = sp.symbols('x1 x2 x3')\n",
        "bieuthuc1 = x1 - x2 + x3\n",
        "f1 = lambdify([x1, x2, x3], bieuthuc1, 'numpy')\n",
        "a, b, c = sp.symbols('a b c') # khai báo thêm 3 biến a, b, c giả định X = (a, b, c)\n",
        "d, e, f = sp.symbols('d e f') # khai báo thêm 3 biến d, e, f giả định Y = (e, d, f)\n",
        "print(f1(a, b, c))\n",
        "print(f1(d, e, f))\n",
        "print(f1(a+d, b+e, c+f))\n",
        "print(f1(a,b,c) + f1(d,e,f) == f1(a+d, b+e, c+f))\n",
        "print((f1(a,b,c) + f1(d,e,f)).equals( f1(a+d, b+e, c+f)) )"
      ],
      "metadata": {
        "colab": {
          "base_uri": "https://localhost:8080/"
        },
        "id": "vVleictY1Osn",
        "outputId": "db696138-f63b-45df-d806-1f64ea3ad84a"
      },
      "execution_count": null,
      "outputs": [
        {
          "output_type": "stream",
          "name": "stdout",
          "text": [
            "a - b + c\n",
            "d - e + f\n",
            "a - b + c + d - e + f\n",
            "True\n",
            "True\n"
          ]
        }
      ]
    },
    {
      "cell_type": "code",
      "source": [
        "q = sp.symbols('q')\n",
        "print((q*f1(a,b,c) + f1(d,e,f)).equals(f1(q*a+d, q*b+e, q*c+f).expand()) )"
      ],
      "metadata": {
        "colab": {
          "base_uri": "https://localhost:8080/"
        },
        "id": "JR18-SxT29WL",
        "outputId": "29d3f0ab-eda6-4417-d11c-3552ed34f9dd"
      },
      "execution_count": null,
      "outputs": [
        {
          "output_type": "stream",
          "name": "stdout",
          "text": [
            "True\n"
          ]
        }
      ]
    },
    {
      "cell_type": "code",
      "source": [
        "bieuthuc2 = 2*x2 + 3* x3\n",
        "f2 = lambdify([x1, x2, x3], bieuthuc2, 'numpy')\n",
        "print((q*f2(a,b,c) + f2(d,e,f)).equals(f2(q*a+d, q*b+e, q*c+f).expand()))"
      ],
      "metadata": {
        "colab": {
          "base_uri": "https://localhost:8080/"
        },
        "id": "MP4hLSkK3E_w",
        "outputId": "66ff08fc-71b8-405d-9f46-2935760095e4"
      },
      "execution_count": null,
      "outputs": [
        {
          "output_type": "stream",
          "name": "stdout",
          "text": [
            "True\n"
          ]
        }
      ]
    },
    {
      "cell_type": "code",
      "source": [
        "import numpy as np\n",
        "u1 = np.array([1, 2])\n",
        "u2 = np.array([3, 5])\n",
        "target = np.array([4, 5])\n",
        "A = np.column_stack((u1, u2))\n",
        "alpha_beta = np.linalg.solve(A, target)\n",
        "alpha, beta = alpha_beta\n",
        "print(f\"alpha = {alpha}, beta = {beta}\")\n",
        "f_u1 = np.array([1, 1, 2])\n",
        "f_u2 = np.array([4, 2, 1])\n",
        "f_u3 = alpha * f_u1 + beta * f_u2\n",
        "print(\"f(4,5) =\", f_u3)"
      ],
      "metadata": {
        "colab": {
          "base_uri": "https://localhost:8080/"
        },
        "id": "i5rUROS1_Fu-",
        "outputId": "bb7e4459-d344-40b1-cf98-721ec34be675"
      },
      "execution_count": null,
      "outputs": [
        {
          "output_type": "stream",
          "name": "stdout",
          "text": [
            "alpha = -5.0, beta = 3.0\n",
            "f(4,5) = [ 7.  1. -7.]\n"
          ]
        }
      ]
    },
    {
      "cell_type": "code",
      "source": [
        "import sympy as sp\n",
        "a, b = sp.symbols('a b')\n",
        "x, y = sp.symbols('x y')\n",
        "sp.solve([a+3*b-x, 2*a+5*b-y],[a,b])"
      ],
      "metadata": {
        "colab": {
          "base_uri": "https://localhost:8080/"
        },
        "id": "lm4A-ESz_IwW",
        "outputId": "a4479df9-eb90-4f55-e237-acb9d9b64894"
      },
      "execution_count": null,
      "outputs": [
        {
          "output_type": "execute_result",
          "data": {
            "text/plain": [
              "{a: -5*x + 3*y, b: 2*x - y}"
            ]
          },
          "metadata": {},
          "execution_count": 2
        }
      ]
    },
    {
      "cell_type": "code",
      "source": [
        "fu1 = np.array([1,1,2])\n",
        "fu2 = np.array([4,2,1])\n",
        "fu = a*fu1 + b*fu2\n",
        "print (fu)"
      ],
      "metadata": {
        "colab": {
          "base_uri": "https://localhost:8080/"
        },
        "id": "hl-LQJEC_3e4",
        "outputId": "c8b1705f-012d-4dbb-eacc-a64aefcb89cf"
      },
      "execution_count": null,
      "outputs": [
        {
          "output_type": "stream",
          "name": "stdout",
          "text": [
            "[a + 4*b a + 2*b 2*a + b]\n"
          ]
        }
      ]
    },
    {
      "cell_type": "code",
      "source": [
        "fu = a.subs(a, -5*x + 3*y)*fu1 + b.subs(b, 2*x - y)*fu2\n",
        "print (fu)"
      ],
      "metadata": {
        "colab": {
          "base_uri": "https://localhost:8080/"
        },
        "id": "VcTNjbHv_9cE",
        "outputId": "97d2b345-b7ef-4404-e679-bbc709b08683"
      },
      "execution_count": null,
      "outputs": [
        {
          "output_type": "stream",
          "name": "stdout",
          "text": [
            "[3*x - y -x + y -8*x + 5*y]\n"
          ]
        }
      ]
    },
    {
      "cell_type": "code",
      "source": [
        "x, y = sp.symbols('x y')\n",
        "f = sp.Matrix([3*x - y, -x + y, -8*x + 5*y])\n",
        "print(f)"
      ],
      "metadata": {
        "colab": {
          "base_uri": "https://localhost:8080/"
        },
        "id": "3UviwdG6BgGd",
        "outputId": "6500f658-5e70-41f0-8c80-a05326919237"
      },
      "execution_count": null,
      "outputs": [
        {
          "output_type": "stream",
          "name": "stdout",
          "text": [
            "Matrix([[3*x - y], [-x + y], [-8*x + 5*y]])\n"
          ]
        }
      ]
    },
    {
      "cell_type": "code",
      "source": [
        "x1, x2, x3 = sp.symbols('x1 x2 x3')\n",
        "sp.solve([x1+x2-x3, 2*x1+3*x2-x3, 3*x1+5*x2-x3],[x1, x2, x3])"
      ],
      "metadata": {
        "colab": {
          "base_uri": "https://localhost:8080/"
        },
        "id": "sUDCH0d_BusH",
        "outputId": "5b756426-7f2e-49a0-fb66-5132f57dfec9"
      },
      "execution_count": null,
      "outputs": [
        {
          "output_type": "execute_result",
          "data": {
            "text/plain": [
              "{x1: 2*x3, x2: -x3}"
            ]
          },
          "metadata": {},
          "execution_count": 9
        }
      ]
    },
    {
      "cell_type": "code",
      "source": [
        "import numpy as np\n",
        "def f(x, y):\n",
        "    return np.array([x - y, x])\n",
        "B=[np.array([1,-1]),np.array([1,0])]\n",
        "F=[np.array([1,2]),np.array([1,3])]\n",
        "def coordinates_in_basis(v, basis):\n",
        "    A=np.column_stack(basis)\n",
        "    coeffs=np.linalg.solve(A, v)\n",
        "    return coeffs\n",
        "A_columns=[coordinates_in_basis(f(*u),F)for u in B]\n",
        "A = np.column_stack(A_columns)\n",
        "print(\"Ma trận của ánh xạ tuyến tính f trong cặp cơ sở {B, F} là:\")\n",
        "print(A)"
      ],
      "metadata": {
        "colab": {
          "base_uri": "https://localhost:8080/"
        },
        "id": "2m0_9LsvHNyP",
        "outputId": "9fd3bf33-1e8d-4a54-9e3c-730360ec474c"
      },
      "execution_count": null,
      "outputs": [
        {
          "output_type": "stream",
          "name": "stdout",
          "text": [
            "Ma trận của ánh xạ tuyến tính f trong cặp cơ sở {B, F} là:\n",
            "[[ 5.  2.]\n",
            " [-3. -1.]]\n"
          ]
        }
      ]
    },
    {
      "cell_type": "code",
      "source": [
        "import numpy as np\n",
        "import math\n",
        "from scipy.linalg import orth\n",
        "B = np.array([[1.0/math.sqrt(2), 1.0/math.sqrt(2)],\n",
        "              [-1.0/math.sqrt(2), 1.0/math.sqrt(2)]])\n",
        "Q = orth(B)\n",
        "print(Q)"
      ],
      "metadata": {
        "colab": {
          "base_uri": "https://localhost:8080/"
        },
        "id": "fiso3niXCfx8",
        "outputId": "bf029d47-10a0-4215-890b-4b19bc1e343a"
      },
      "execution_count": null,
      "outputs": [
        {
          "output_type": "stream",
          "name": "stdout",
          "text": [
            "[[-0.70710678  0.70710678]\n",
            " [ 0.70710678  0.70710678]]\n"
          ]
        }
      ]
    },
    {
      "cell_type": "code",
      "source": [
        "import numpy as np\n",
        "import math\n",
        "from scipy import linalg as LA\n",
        "B = np.matrix([\n",
        "    [1.0 / math.sqrt(2), 1.0 / math.sqrt(2)],\n",
        "    [-1.0 / math.sqrt(2), 1.0 / math.sqrt(2)]])\n",
        "print(B)\n",
        "print(LA.orth(B))\n",
        "expected = np.array([\n",
        "    [-0.70710678, 0.70710678],\n",
        "    [ 0.70710678, 0.70710678]])\n",
        "print(expected)"
      ],
      "metadata": {
        "colab": {
          "base_uri": "https://localhost:8080/"
        },
        "id": "ZRmWk5L_t75p",
        "outputId": "e579c100-35da-470d-a32d-d0d2a98e24fa"
      },
      "execution_count": null,
      "outputs": [
        {
          "output_type": "stream",
          "name": "stdout",
          "text": [
            "[[ 0.70710678  0.70710678]\n",
            " [-0.70710678  0.70710678]]\n",
            "[[-0.70710678  0.70710678]\n",
            " [ 0.70710678  0.70710678]]\n",
            "[[-0.70710678  0.70710678]\n",
            " [ 0.70710678  0.70710678]]\n"
          ]
        }
      ]
    },
    {
      "cell_type": "code",
      "source": [
        "Q = np.array([[4, -1, 0], [1, 3, -2], [0, 1, 2]])\n",
        "print(Q)\n",
        "Gia_tri_rieng, Vector_rieng = np.linalg.eig(Q)\n",
        "print(Gia_tri_rieng)\n",
        "Vector_rieng_chuan_hoa = Vector_rieng / np.linalg.norm(Vector_rieng, axis=0)\n",
        "print(Vector_rieng_chuan_hoa)"
      ],
      "metadata": {
        "id": "0b2dFjhLuL_S"
      },
      "execution_count": null,
      "outputs": []
    },
    {
      "cell_type": "markdown",
      "source": [
        "BÀI TẬP CHƯƠNG"
      ],
      "metadata": {
        "id": "N0AtmNx2wAiz"
      }
    },
    {
      "cell_type": "code",
      "source": [
        "# CÂU 1 - Kiểm tra ảnh xạ có phải tuyến tính không\n",
        "# g(x, y, z) = (x + y, z + 2, 0)\n",
        "from sympy import symbols, Matrix\n",
        "\n",
        "x, y, z = symbols('x y z')\n",
        "\n",
        "gu = Matrix([x + y, z + 2, 0])\n",
        "print(gu)\n",
        "\n",
        "gv = Matrix([2*x + 2*y, 2*z + 4, 0])\n",
        "print(gv)\n",
        "\n",
        "g_u_v = Matrix([(x + x + y + y), (z + z + 2 + 2), 0])\n",
        "print(g_u_v)\n",
        "\n",
        "la_tuyen_tinh = False\n",
        "print(\"Câu 1: Tuyến tính:\", la_tuyen_tinh)"
      ],
      "metadata": {
        "colab": {
          "base_uri": "https://localhost:8080/"
        },
        "id": "MVsl4eOwv_d8",
        "outputId": "7174b384-3629-482a-d261-e0c6eade7429"
      },
      "execution_count": 1,
      "outputs": [
        {
          "output_type": "stream",
          "name": "stdout",
          "text": [
            "Matrix([[x + y], [z + 2], [0]])\n",
            "Matrix([[2*x + 2*y], [2*z + 4], [0]])\n",
            "Matrix([[2*x + 2*y], [2*z + 4], [0]])\n",
            "Câu 1: Tuyến tính: False\n"
          ]
        }
      ]
    },
    {
      "cell_type": "code",
      "source": [
        "# CÂU 2 - Biến đổi: x -> y, y -> x - y\n",
        "import numpy as np\n",
        "P = np.array([[0, 1], [1, -1]])\n",
        "F = np.array([[1, 2, 3], [4, 5, 6]])  # ví dụ tập điểm\n",
        "bien_doi_F = P @ F\n",
        "print(\"Câu 2: Biến đổi:\", bien_doi_F)"
      ],
      "metadata": {
        "id": "RwgnD6_ww0ki",
        "colab": {
          "base_uri": "https://localhost:8080/"
        },
        "outputId": "18767c52-a848-42b5-ec07-9831795e06c9"
      },
      "execution_count": 2,
      "outputs": [
        {
          "output_type": "stream",
          "name": "stdout",
          "text": [
            "Câu 2: Biến đổi: [[ 4  5  6]\n",
            " [-3 -3 -3]]\n"
          ]
        }
      ]
    },
    {
      "cell_type": "code",
      "source": [
        "# CÂU 3 - Chứng minh T là ánh xạ tuyến tính\n",
        "# T(v1, v2) = (v1 − v2, v1 + 2*v2)\n",
        "import sympy as sp\n",
        "v1, v2 = sp.symbols('v1 v2')\n",
        "a, b = sp.symbols('a b')\n",
        "u1, u2 = sp.symbols('u1 u2')\n",
        "v1a, v2a = sp.symbols('v1a v2a')\n",
        "Tu = (u1 - u2, u1 + 2*u2)\n",
        "Tv = (v1a - v2a, v1a + 2*v2a)\n",
        "print(\"Tu =\", Tu)\n",
        "print(\"Tv =\", Tv)\n",
        "T_ab_uv = (a*u1 + b*v1a - (a*u2 + b*v2a), a*u1 + b*v1a + 2*(a*u2 + b*v2a))\n",
        "print(\"T(a*u + b*v) =\", T_ab_uv)\n",
        "T_linear_comb = (a*Tu[0] + b*Tv[0], a*Tu[1] + b*Tv[1])\n",
        "print(\"a*T(u) + b*T(v) =\", T_linear_comb)\n",
        "kiem_tra_T = sp.simplify(sp.Matrix(T_ab_uv) - sp.Matrix(T_linear_comb)) == sp.Matrix([0, 0])\n",
        "print(\"Câu 3: T là ánh xạ tuyến tính:\", kiem_tra_T)"
      ],
      "metadata": {
        "id": "3CcM_evYw1v-",
        "colab": {
          "base_uri": "https://localhost:8080/"
        },
        "outputId": "823249e9-ea77-49cc-8619-f1e901ce615a"
      },
      "execution_count": 4,
      "outputs": [
        {
          "output_type": "stream",
          "name": "stdout",
          "text": [
            "Tu = (u1 - u2, u1 + 2*u2)\n",
            "Tv = (v1a - v2a, v1a + 2*v2a)\n",
            "T(a*u + b*v) = (a*u1 - a*u2 + b*v1a - b*v2a, a*u1 + 2*a*u2 + b*v1a + 2*b*v2a)\n",
            "a*T(u) + b*T(v) = (a*(u1 - u2) + b*(v1a - v2a), a*(u1 + 2*u2) + b*(v1a + 2*v2a))\n",
            "Câu 3: T là ánh xạ tuyến tính: True\n"
          ]
        }
      ]
    },
    {
      "cell_type": "code",
      "source": [
        "# CÂU 4 - Quadratic form: X^T A X + [d e] X + f\n",
        "# Phương trình ellipse: 13x² − 10xy + 13y² − 72 = 0\n",
        "A = np.array([[13, -5], [-5, 13]])\n",
        "from numpy import linalg as LA\n",
        "import math\n",
        "Gia_tri_rieng, Vecto_rieng = LA.eig(A)\n",
        "P = Vecto_rieng\n",
        "A_cheo = P.T @ A @ P\n",
        "print(A_cheo)\n",
        "kiem_tra_truc_giao = np.allclose(P.T @ P, np.eye(2))\n",
        "print(\"Kiểm tra trực giao:\", kiem_tra_truc_giao)\n",
        "theta = math.atan2(P[1, 0], P[0, 0]) * 180 / math.pi\n",
        "print(\"Góc xoay (độ):\", round(theta, 2))\n",
        "print(\"Câu 4: Giá trị riêng:\", Gia_tri_rieng)"
      ],
      "metadata": {
        "id": "YN3RU8uLw2y-",
        "colab": {
          "base_uri": "https://localhost:8080/"
        },
        "outputId": "8c56857b-5ce1-4f74-9782-0a7a7573a100"
      },
      "execution_count": 7,
      "outputs": [
        {
          "output_type": "stream",
          "name": "stdout",
          "text": [
            "[[ 1.8000000e+01  0.0000000e+00]\n",
            " [-8.8817842e-16  8.0000000e+00]]\n",
            "Kiểm tra trực giao: True\n",
            "Góc xoay (độ): -45.0\n",
            "Câu 4: Giá trị riêng: [18.  8.]\n"
          ]
        }
      ]
    }
  ]
}