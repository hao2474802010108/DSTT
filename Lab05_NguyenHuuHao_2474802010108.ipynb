{
  "nbformat": 4,
  "nbformat_minor": 0,
  "metadata": {
    "colab": {
      "provenance": []
    },
    "kernelspec": {
      "name": "python3",
      "display_name": "Python 3"
    },
    "language_info": {
      "name": "python"
    }
  },
  "cells": [
    {
      "cell_type": "markdown",
      "source": [],
      "metadata": {
        "id": "z1B9ZxvNaRlA"
      }
    },
    {
      "cell_type": "code",
      "execution_count": null,
      "metadata": {
        "colab": {
          "base_uri": "https://localhost:8080/"
        },
        "id": "AMGtb_3MaNZk",
        "outputId": "fe2328a3-069b-430e-9758-ee5c7464210c"
      },
      "outputs": [
        {
          "output_type": "stream",
          "name": "stdout",
          "text": [
            "[[1 2]\n",
            " [3 4]]\n"
          ]
        }
      ],
      "source": [
        "import numpy as np\n",
        "D = np.array([[1,2],[3,4]])\n",
        "E = np.empty_like(D) # Define E before using it\n",
        "np.copyto(E, D)\n",
        "E = np.array([[1,2],[3,5]])\n",
        "np.copyto(E, D)\n",
        "print(E)"
      ]
    },
    {
      "cell_type": "code",
      "source": [
        "B = np.matrix(\"[1 2 3; 4 5 6]\")\n",
        "x = np.array([['a','b'],['c','d']])\n",
        "y = 'x'\n",
        "C = np.matrix([[x,y],[1, 2]] )\n",
        "print (C)"
      ],
      "metadata": {
        "id": "ZBRU5Gzwb3Xv"
      },
      "execution_count": null,
      "outputs": []
    },
    {
      "cell_type": "code",
      "source": [
        "#Lỗi\n",
        "A = np.matrix([[[1,2],[3,4]],[[5,6],[7,8]]])"
      ],
      "metadata": {
        "colab": {
          "base_uri": "https://localhost:8080/",
          "height": 263
        },
        "collapsed": true,
        "id": "ZZ-oYTsXcveB",
        "outputId": "447a3479-c4cf-483f-f5d5-d7cf3612fe73"
      },
      "execution_count": null,
      "outputs": [
        {
          "output_type": "error",
          "ename": "ValueError",
          "evalue": "matrix must be 2-dimensional",
          "traceback": [
            "\u001b[0;31m---------------------------------------------------------------------------\u001b[0m",
            "\u001b[0;31mValueError\u001b[0m                                Traceback (most recent call last)",
            "\u001b[0;32m/tmp/ipython-input-6-2455616972.py\u001b[0m in \u001b[0;36m<cell line: 0>\u001b[0;34m()\u001b[0m\n\u001b[0;32m----> 1\u001b[0;31m \u001b[0mA\u001b[0m \u001b[0;34m=\u001b[0m \u001b[0mnp\u001b[0m\u001b[0;34m.\u001b[0m\u001b[0mmatrix\u001b[0m\u001b[0;34m(\u001b[0m\u001b[0;34m[\u001b[0m\u001b[0;34m[\u001b[0m\u001b[0;34m[\u001b[0m\u001b[0;36m1\u001b[0m\u001b[0;34m,\u001b[0m\u001b[0;36m2\u001b[0m\u001b[0;34m]\u001b[0m\u001b[0;34m,\u001b[0m\u001b[0;34m[\u001b[0m\u001b[0;36m3\u001b[0m\u001b[0;34m,\u001b[0m\u001b[0;36m4\u001b[0m\u001b[0;34m]\u001b[0m\u001b[0;34m]\u001b[0m\u001b[0;34m,\u001b[0m\u001b[0;34m[\u001b[0m\u001b[0;34m[\u001b[0m\u001b[0;36m5\u001b[0m\u001b[0;34m,\u001b[0m\u001b[0;36m6\u001b[0m\u001b[0;34m]\u001b[0m\u001b[0;34m,\u001b[0m\u001b[0;34m[\u001b[0m\u001b[0;36m7\u001b[0m\u001b[0;34m,\u001b[0m\u001b[0;36m8\u001b[0m\u001b[0;34m]\u001b[0m\u001b[0;34m]\u001b[0m\u001b[0;34m]\u001b[0m\u001b[0;34m)\u001b[0m\u001b[0;34m\u001b[0m\u001b[0;34m\u001b[0m\u001b[0m\n\u001b[0m",
            "\u001b[0;32m/usr/local/lib/python3.11/dist-packages/numpy/matrixlib/defmatrix.py\u001b[0m in \u001b[0;36m__new__\u001b[0;34m(subtype, data, dtype, copy)\u001b[0m\n\u001b[1;32m    150\u001b[0m         \u001b[0mshape\u001b[0m \u001b[0;34m=\u001b[0m \u001b[0marr\u001b[0m\u001b[0;34m.\u001b[0m\u001b[0mshape\u001b[0m\u001b[0;34m\u001b[0m\u001b[0;34m\u001b[0m\u001b[0m\n\u001b[1;32m    151\u001b[0m         \u001b[0;32mif\u001b[0m \u001b[0;34m(\u001b[0m\u001b[0mndim\u001b[0m \u001b[0;34m>\u001b[0m \u001b[0;36m2\u001b[0m\u001b[0;34m)\u001b[0m\u001b[0;34m:\u001b[0m\u001b[0;34m\u001b[0m\u001b[0;34m\u001b[0m\u001b[0m\n\u001b[0;32m--> 152\u001b[0;31m             \u001b[0;32mraise\u001b[0m \u001b[0mValueError\u001b[0m\u001b[0;34m(\u001b[0m\u001b[0;34m\"matrix must be 2-dimensional\"\u001b[0m\u001b[0;34m)\u001b[0m\u001b[0;34m\u001b[0m\u001b[0;34m\u001b[0m\u001b[0m\n\u001b[0m\u001b[1;32m    153\u001b[0m         \u001b[0;32melif\u001b[0m \u001b[0mndim\u001b[0m \u001b[0;34m==\u001b[0m \u001b[0;36m0\u001b[0m\u001b[0;34m:\u001b[0m\u001b[0;34m\u001b[0m\u001b[0;34m\u001b[0m\u001b[0m\n\u001b[1;32m    154\u001b[0m             \u001b[0mshape\u001b[0m \u001b[0;34m=\u001b[0m \u001b[0;34m(\u001b[0m\u001b[0;36m1\u001b[0m\u001b[0;34m,\u001b[0m \u001b[0;36m1\u001b[0m\u001b[0;34m)\u001b[0m\u001b[0;34m\u001b[0m\u001b[0;34m\u001b[0m\u001b[0m\n",
            "\u001b[0;31mValueError\u001b[0m: matrix must be 2-dimensional"
          ]
        }
      ]
    },
    {
      "cell_type": "code",
      "source": [
        "A = np.array([[[1,2],[3,4]],[[5,6],[7,8]]]) # sinh viên ghi nhận kết quả\n",
        "print(A)"
      ],
      "metadata": {
        "colab": {
          "base_uri": "https://localhost:8080/"
        },
        "collapsed": true,
        "id": "RC5eFvFDcWmp",
        "outputId": "220c7370-2f99-4f03-9ab4-1354816cedd3"
      },
      "execution_count": null,
      "outputs": [
        {
          "output_type": "stream",
          "name": "stdout",
          "text": [
            "[[[1 2]\n",
            "  [3 4]]\n",
            "\n",
            " [[5 6]\n",
            "  [7 8]]]\n"
          ]
        }
      ]
    },
    {
      "cell_type": "code",
      "source": [
        "from numpy import matlib\n",
        "G = matlib.identity(5)\n",
        "print (G)"
      ],
      "metadata": {
        "id": "yh4bfdrqc1-Q",
        "colab": {
          "base_uri": "https://localhost:8080/"
        },
        "outputId": "3a1c6d5e-6456-46e8-8cd0-b74f7fc595b1"
      },
      "execution_count": 2,
      "outputs": [
        {
          "output_type": "stream",
          "name": "stdout",
          "text": [
            "[[1. 0. 0. 0. 0.]\n",
            " [0. 1. 0. 0. 0.]\n",
            " [0. 0. 1. 0. 0.]\n",
            " [0. 0. 0. 1. 0.]\n",
            " [0. 0. 0. 0. 1.]]\n",
            "[[-0.17567282 -2.36449355]\n",
            " [-0.30185257 -1.2262693 ]\n",
            " [-0.61204444  0.4741424 ]]\n",
            "[[0. 0. 0. 0.]\n",
            " [0. 0. 0. 0.]\n",
            " [0. 0. 0. 0.]\n",
            " [0. 0. 0. 0.]]\n"
          ]
        }
      ]
    },
    {
      "cell_type": "code",
      "source": [
        "H = matlib.randn(3,2)\n",
        "print(H)"
      ],
      "metadata": {
        "id": "oWxmi3Hre-2H"
      },
      "execution_count": null,
      "outputs": []
    },
    {
      "cell_type": "code",
      "source": [
        "K = matlib.zeros([4,4])\n",
        "print(K)"
      ],
      "metadata": {
        "id": "vJbqk19Ie9xl"
      },
      "execution_count": null,
      "outputs": []
    },
    {
      "cell_type": "code",
      "source": [
        "import numpy as np\n",
        "c = [3, 7, 15, 1, 292, 1, 1, 1, 2, 1, 3, 1, 14, 2]\n",
        "M = np.asmatrix([[1,2],[3,4]])\n",
        "for i in range(len(c)):\n",
        " ci = np.asmatrix([[1,1],[1,0]])\n",
        " ci[0, 0] = c[i]\n",
        " if (i==0):\n",
        "  M = ci\n",
        " else:\n",
        "  M = M.dot(ci)\n",
        "print(M)\n",
        "print (M[0,0]/M[1,0])"
      ],
      "metadata": {
        "colab": {
          "base_uri": "https://localhost:8080/"
        },
        "id": "bgkRykZwfEmS",
        "outputId": "ee919837-a593-4bde-baf6-636fcf219cfe"
      },
      "execution_count": 3,
      "outputs": [
        {
          "output_type": "stream",
          "name": "stdout",
          "text": [
            "[[165707065  80143857]\n",
            " [ 52746197  25510582]]\n",
            "3.1415926535897936\n"
          ]
        }
      ]
    },
    {
      "cell_type": "markdown",
      "source": [
        "Bài 3"
      ],
      "metadata": {
        "id": "cHeTZ6V_fIKI"
      }
    },
    {
      "cell_type": "code",
      "source": [
        "import numpy as np\n",
        "X = np.array([[1,1], [1,2], [1,3], [1,4], [1,5]])\n",
        "Y = np.array([[1], [2], [4], [4], [6]])\n",
        "XT = X.T\n",
        "A1 = np.linalg.inv(XT.dot(X))\n",
        "A2 = XT.dot(Y)\n",
        "A = A1.dot(A2)\n",
        "print(A)"
      ],
      "metadata": {
        "id": "rAvOGSTkfGC5"
      },
      "execution_count": null,
      "outputs": []
    },
    {
      "cell_type": "markdown",
      "source": [
        "Bài tập chương"
      ],
      "metadata": {
        "id": "i_fKe4cSfKay"
      }
    },
    {
      "cell_type": "markdown",
      "source": [
        "Thực hành"
      ],
      "metadata": {
        "id": "2yXP4-l0fLce"
      }
    },
    {
      "cell_type": "code",
      "source": [
        "import numpy as np\n",
        "def bpcuctieu(x, y):\n",
        "    o1 = [1.0] * len(x)\n",
        "    X = np.vstack([o1, x]).T\n",
        "    y = np.array(y)\n",
        "    XT_X = np.dot(X.T, X)\n",
        "    XT_X_inv = np.linalg.inv(XT_X)\n",
        "    XT_y = np.dot(X.T, y)\n",
        "    A = np.dot(XT_X_inv, XT_y)\n",
        "    return A\n",
        "x = [0, 1, 2, 3, 4]\n",
        "y = [10.0, 8, 7, 5, 2]\n",
        "kq = bpcuctieu(x, y)\n",
        "print(f\"Phương trình tuyến tính: y = {kq[0]:.1f} + {kq[1]:.1f}x\")"
      ],
      "metadata": {
        "colab": {
          "base_uri": "https://localhost:8080/"
        },
        "id": "iwLuHI2jfNCv",
        "outputId": "6e30b185-ac7a-4f4b-d771-d78422e11233"
      },
      "execution_count": 4,
      "outputs": [
        {
          "output_type": "stream",
          "name": "stdout",
          "text": [
            "Phương trình tuyến tính: y = 10.2 + -1.9x\n"
          ]
        }
      ]
    }
  ]
}